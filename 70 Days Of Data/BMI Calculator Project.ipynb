{
 "cells": [
  {
   "cell_type": "markdown",
   "metadata": {},
   "source": [
    "## Build A Calculator \n",
    "\n",
    "https://mercer-health.com/#:~:text=Body%20Mass%20Index%2C%20or%20BMI,inches%20x%20height%20in%20inches"
   ]
  },
  {
   "cell_type": "code",
   "execution_count": 9,
   "metadata": {},
   "outputs": [],
   "source": []
  },
  {
   "cell_type": "code",
   "execution_count": 20,
   "metadata": {},
   "outputs": [
    {
     "name": "stdout",
     "output_type": "stream",
     "text": [
      "25.845588235294116\n",
      "drtew ,You are overweight. No excuses you need to take your life more serious\n"
     ]
    }
   ],
   "source": [
    "name = input(\"Enter your name:\")\n",
    "weight = int(input(\"Enter ypour weight in pounds: \"))\n",
    "height = int(input(\"Enter your height in inches:\"))\n",
    "\n",
    "BMI = (weight * 703) / (height * height)\n",
    "\n",
    "print(BMI)\n",
    "\n",
    "if BMI >0:\n",
    "    if(BMI<18.5):\n",
    "        print(name + \",You are underweight.\")\n",
    "    elif(BMI<=24.9):\n",
    "        print(name + \",You are normal weight. Lets reel it in and get back on track \")\n",
    "    elif(BMI<29.9):\n",
    "        print(name + \",You are overweight. No excuses you need to take your life more serious\")\n",
    "    elif(BMI<34.9):\n",
    "        print(name + \",You are obese but that does not define you just exercise and eat right.\")\n",
    "    elif(BMI<39.9):\n",
    "        print(name + \",You are severely obese but that does not define you just do the work if youre unhappy.\")\n",
    "    elif(BMI<29.9):\n",
    "        print(name + \",You are overweight.\")\n",
    "    else:\n",
    "        print(name + \",You are morbidly obese\")\n",
    "else:\n",
    "    print('Enter valid input')"
   ]
  },
  {
   "cell_type": "code",
   "execution_count": 12,
   "metadata": {},
   "outputs": [
    {
     "data": {
      "text/plain": [
       "int"
      ]
     },
     "execution_count": 12,
     "metadata": {},
     "output_type": "execute_result"
    }
   ],
   "source": []
  },
  {
   "cell_type": "code",
   "execution_count": 11,
   "metadata": {},
   "outputs": [],
   "source": []
  },
  {
   "cell_type": "code",
   "execution_count": null,
   "metadata": {},
   "outputs": [],
   "source": [
    "#BMI = (weight in pounds x 703) / (height in inches x height in inches)"
   ]
  },
  {
   "cell_type": "markdown",
   "metadata": {},
   "source": [
    "# Information \n",
    "### Under 18.5\tUnderweight\tMinimal\n",
    "\n",
    "### 18.5 - 24.9\tNormal Weight\tMinimal\n",
    "\n",
    "### 25 - 29.9\tOverweight\tIncreased\n",
    "\n",
    "### 30 - 34.9\tObese\tHigh\n",
    "\n",
    "### 35 - 39.9\tSeverely Obese\tVery High\n",
    "\n",
    "### 40 and over\tMorbidly Obese\tExtremely High"
   ]
  },
  {
   "cell_type": "code",
   "execution_count": 18,
   "metadata": {},
   "outputs": [
    {
     "name": "stdout",
     "output_type": "stream",
     "text": [
      "Drew,You are overweight. No excuses you need to take your life more serious\n"
     ]
    }
   ],
   "source": [
    "if BMI >0:\n",
    "    if(BMI<18.5):\n",
    "        print(name + \",You are underweight.\")\n",
    "    elif(BMI<=24.9):\n",
    "        print(name + \",You are normal weight. Lets reel it in and get back on track \")\n",
    "    elif(BMI<29.9):\n",
    "        print(name + \",You are overweight. No excuses you need to take your life more serious\")\n",
    "    elif(BMI<34.9):\n",
    "        print(name + \",You are obese but that does not define you just exercise and eat right.\")\n",
    "    elif(BMI<39.9):\n",
    "        print(name + \",You are severely obese but that does not define you just do the work if youre unhappy.\")\n",
    "    elif(BMI<29.9):\n",
    "        print(name + \",You are overweight.\")\n",
    "    else:\n",
    "        print(name + \",You are morbidly obese\")\n",
    "else:\n",
    "    print('Enter valid input')"
   ]
  }
 ],
 "metadata": {
  "kernelspec": {
   "display_name": "Python 3",
   "language": "python",
   "name": "python3"
  },
  "language_info": {
   "codemirror_mode": {
    "name": "ipython",
    "version": 3
   },
   "file_extension": ".py",
   "mimetype": "text/x-python",
   "name": "python",
   "nbconvert_exporter": "python",
   "pygments_lexer": "ipython3",
   "version": "3.11.5"
  }
 },
 "nbformat": 4,
 "nbformat_minor": 2
}
