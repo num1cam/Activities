{
 "cells": [
  {
   "cell_type": "markdown",
   "metadata": {},
   "source": [
    "# Week 8 Homework\n"
   ]
  },
  {
   "cell_type": "code",
   "execution_count": null,
   "metadata": {},
   "outputs": [],
   "source": [
    "-- section 2\n",
    "SELECT TopSpeed, Range, efficiency, FastCharge\n",
    "FROM evCars\n",
    "LIMIT 10"
   ]
  },
  {
   "cell_type": "code",
   "execution_count": null,
   "metadata": {},
   "outputs": [],
   "source": [
    "--2.1\n",
    "SELECT Brand FROM EvCars;\n",
    "--2.2\n",
    "FUNCTION(string, characterStringToBeRemoved)"
   ]
  },
  {
   "cell_type": "code",
   "execution_count": null,
   "metadata": {},
   "outputs": [],
   "source": [
    "--2.3\n",
    "SELECT column, stringfunctiongoeshere\n",
    "FROM EvCars \n"
   ]
  },
  {
   "cell_type": "code",
   "execution_count": null,
   "metadata": {},
   "outputs": [],
   "source": [
    "--2.4\n",
    "UPDATE EvCars \n",
    "SET \n",
    "    Range = stringfunction; "
   ]
  },
  {
   "cell_type": "code",
   "execution_count": null,
   "metadata": {},
   "outputs": [],
   "source": [
    "--2.5\n",
    "SELECT TopSpeed FROM EvCars;"
   ]
  },
  {
   "cell_type": "code",
   "execution_count": null,
   "metadata": {},
   "outputs": [],
   "source": [
    "--2.6\n",
    "SELECT TopSpeed, function(TopSpeed * conversionRate, numberofdecimals)\n",
    "FROM EvCars \n",
    "--\n",
    "UPDATE EvCars \n",
    "SET \n",
    "    PowerTrain = pwr * conversionRate "
   ]
  },
  {
   "cell_type": "code",
   "execution_count": null,
   "metadata": {},
   "outputs": [],
   "source": [
    "--2.7\n",
    "ALTER TABLE EvCars \n",
    "RENAME columnname TO newColumnName"
   ]
  },
  {
   "cell_type": "code",
   "execution_count": null,
   "metadata": {},
   "outputs": [],
   "source": [
    "--2.8\n",
    "SELECT * \n",
    "FROM EvCars "
   ]
  },
  {
   "cell_type": "markdown",
   "metadata": {},
   "source": [
    "# Section 3"
   ]
  },
  {
   "cell_type": "code",
   "execution_count": null,
   "metadata": {},
   "outputs": [],
   "source": [
    "##--3.1\n",
    "SELECT TopSpeed\n",
    "FROM evCars\n",
    "LIMIT 10\n"
   ]
  },
  {
   "cell_type": "code",
   "execution_count": null,
   "metadata": {},
   "outputs": [],
   "source": [
    "##--3.2\n",
    "UPDATE EvCars\n",
    "SET Range = REPLACE(Range, 'km', '')"
   ]
  },
  {
   "cell_type": "code",
   "execution_count": null,
   "metadata": {},
   "outputs": [],
   "source": [
    "##--3.3\n",
    "SELECT Range AS Original_Range,\n",
    "       REPLACE(Range, 'km', '') AS Modified_Range\n",
    "FROM EvCars\n",
    "##103"
   ]
  },
  {
   "cell_type": "code",
   "execution_count": null,
   "metadata": {},
   "outputs": [],
   "source": [
    "##--3.4\n",
    "UPDATE EvCars\n",
    "SET Range = REPLACE(Range, 'km', '')\n"
   ]
  },
  {
   "cell_type": "code",
   "execution_count": null,
   "metadata": {},
   "outputs": [],
   "source": [
    "##--3.5\n",
    "SELECT Range\n",
    "FROM EvCars"
   ]
  },
  {
   "cell_type": "code",
   "execution_count": null,
   "metadata": {},
   "outputs": [],
   "source": [
    "##--3.6\n",
    "SELECT Range AS Range_in_km,\n",
    "       Range * 0.621371 AS Range_in_miles\n",
    "FROM EvCars\n",
    "\n",
    "UPDATE EvCars\n",
    "SET Range = Range * 0.621371"
   ]
  },
  {
   "cell_type": "code",
   "execution_count": null,
   "metadata": {},
   "outputs": [],
   "source": [
    "##--3.7\n",
    "ALTER TABLE EvCars\n",
    "RENAME COLUMN Range TO rangeMiles"
   ]
  },
  {
   "cell_type": "code",
   "execution_count": null,
   "metadata": {},
   "outputs": [],
   "source": [
    "##--3.8\n",
    "SELECT *\n",
    "FROM EvCars"
   ]
  },
  {
   "cell_type": "markdown",
   "metadata": {},
   "source": [
    "# Section 4"
   ]
  },
  {
   "cell_type": "code",
   "execution_count": null,
   "metadata": {},
   "outputs": [],
   "source": [
    "##--Section 4\n",
    "SELECT Efficiency, FastCharge\n",
    "FROM EvCars\n"
   ]
  },
  {
   "cell_type": "code",
   "execution_count": null,
   "metadata": {},
   "outputs": [],
   "source": [
    "##--4.1\n",
    "\n",
    "SELECT Efficiency, FastCharge\n",
    "FROM EvCars\n"
   ]
  },
  {
   "cell_type": "code",
   "execution_count": null,
   "metadata": {},
   "outputs": [],
   "source": [
    "##--4.2\n",
    "UPDATE EvCars\n",
    "SET Efficiency = REPLACE(Efficiency, ' Wh/km', '')\n",
    "\n",
    "UPDATE EvCars\n",
    "SET FastCharge = REPLACE(FastCharge, ' km/h', '')"
   ]
  },
  {
   "cell_type": "code",
   "execution_count": null,
   "metadata": {},
   "outputs": [],
   "source": [
    "##--4.3\n",
    "SELECT Efficiency AS Original_Efficiency,\n",
    "       REPLACE(Efficiency, ' Wh/km', '') AS Modified_Efficiency,\n",
    "       FastCharge AS Original_FastCharge,\n",
    "       REPLACE(FastCharge, ' km/h', '') AS Modified_FastCharge\n",
    "FROM EvCars\n",
    "--103"
   ]
  },
  {
   "cell_type": "code",
   "execution_count": null,
   "metadata": {},
   "outputs": [],
   "source": [
    "##\n",
    "--- 4.4\n",
    "UPDATE EvCars\n",
    "SET Efficiency = REPLACE(Efficiency, ' Wh/km', '')"
   ]
  },
  {
   "cell_type": "code",
   "execution_count": null,
   "metadata": {},
   "outputs": [],
   "source": [
    "##--4.5\n",
    "SELECT *\n",
    "FROM EvCars"
   ]
  },
  {
   "cell_type": "code",
   "execution_count": null,
   "metadata": {},
   "outputs": [],
   "source": [
    "##--4.6\n",
    "SELECT OneHourFastChargeMiles,\n",
    "       ROUND(rangeMiles * 0.621371, 1) AS OneHourFastChargeMiles\n",
    "FROM EvCars\n",
    "---\n",
    "UPDATE EvCars\n",
    "SET Distance = ROUND(Distance * 0.621371, 1)"
   ]
  },
  {
   "cell_type": "code",
   "execution_count": null,
   "metadata": {},
   "outputs": [],
   "source": [
    "##-4.7\n",
    "ALTER TABLE EvCars\n",
    "RENAME COLUMN FastCharge TO OneHourFastChargeMiles\n",
    "--\n",
    "ALTER TABLE EvCars\n",
    "RENAME COLUMN Efficiency TO efficiencyWHperKM"
   ]
  },
  {
   "cell_type": "code",
   "execution_count": null,
   "metadata": {},
   "outputs": [],
   "source": [
    "##--4.8\n",
    "SELECT *\n",
    "FROM EvCars\n"
   ]
  },
  {
   "cell_type": "markdown",
   "metadata": {},
   "source": [
    "# Section 5"
   ]
  },
  {
   "cell_type": "code",
   "execution_count": null,
   "metadata": {},
   "outputs": [],
   "source": [
    "##-- 5.1\n",
    "\n",
    "SELECT RapidCharge, COUNT(*) AS Records_Count\n",
    "FROM EvCars\n",
    "GROUP BY RapidCharge\n"
   ]
  },
  {
   "cell_type": "code",
   "execution_count": null,
   "metadata": {},
   "outputs": [],
   "source": [
    "##--5.2\n",
    "\n",
    "UPDATE EvCars\n",
    "SET RapidCharge = CASE \n",
    "    WHEN RapidCharge = 'Yes' THEN 'Yes'\n",
    "    WHEN RapidCharge = 'True' THEN 'Yes'\n",
    "    WHEN RapidCharge = 'Y' THEN 'Yes'\n",
    "    ELSE 'No'\n",
    "    END"
   ]
  },
  {
   "cell_type": "code",
   "execution_count": null,
   "metadata": {},
   "outputs": [],
   "source": [
    "##\t--5.3\n",
    "UPDATE EvCars\n",
    "SET RapidCharge = CASE \n",
    "    WHEN RapidCharge = 'Yes' THEN 'Yes'\n",
    "    WHEN RapidCharge = 'True' THEN 'Yes'\n",
    "    WHEN RapidCharge = 'Y' THEN 'Yes'\n",
    "    ELSE 'No'"
   ]
  },
  {
   "cell_type": "markdown",
   "metadata": {},
   "source": [
    "# Section  6"
   ]
  },
  {
   "cell_type": "code",
   "execution_count": null,
   "metadata": {},
   "outputs": [],
   "source": [
    "##-6.1\n",
    "SELECT PowerTrain, COUNT(*) AS Records_Count\n",
    "FROM EvCars\n",
    "GROUP BY PowerTrain"
   ]
  },
  {
   "cell_type": "code",
   "execution_count": null,
   "metadata": {},
   "outputs": [],
   "source": [
    "##6.2\n",
    "UPDATE EvCars\n",
    "SET PowerTrain = 'AWD'\n",
    "WHERE PowerTrain = 'All wheel drive'\n",
    "--\n",
    "\n",
    "UPDATE EvCars\n",
    "SET PowerTrain = 'RWD'\n",
    "WHERE PowerTrain = 'Front wheel Drive'\n",
    "--\n",
    "\n",
    "UPDATE EvCars\n",
    "SET PowerTrain = 'FWD'\n",
    "WHERE PowerTrain = 'Rear wheel Drive'"
   ]
  },
  {
   "cell_type": "code",
   "execution_count": null,
   "metadata": {},
   "outputs": [],
   "source": [
    "##--6.3\n",
    "UPDATE EvCars\n",
    "SET PowerTrain = 'AWD'\n",
    "WHERE PowerTrain = 'All wheel drive'\n",
    "--\n",
    "\n",
    "UPDATE EvCars\n",
    "SET PowerTrain = 'RWD'\n",
    "WHERE PowerTrain = 'Front wheel Drive'\n",
    "--\n",
    "\n",
    "UPDATE EvCars\n",
    "SET PowerTrain = 'FWD'\n",
    "WHERE PowerTrain = 'Rear wheel Drive'"
   ]
  },
  {
   "cell_type": "markdown",
   "metadata": {},
   "source": [
    "# Section 7"
   ]
  },
  {
   "cell_type": "code",
   "execution_count": null,
   "metadata": {},
   "outputs": [],
   "source": [
    "##--7.1\n",
    "SELECT PriceEuro,\n",
    "       ROUND(PriceEuro * 1.09, 2) AS CalculatedColumn\n",
    "FROM EvCars"
   ]
  },
  {
   "cell_type": "code",
   "execution_count": null,
   "metadata": {},
   "outputs": [],
   "source": [
    "##--7.2\n",
    "UPDATE EvCars\n",
    "SET PriceEuro = ROUND(PriceEuro * 1.09, 2)\n",
    "--\n",
    "SELECT PriceEuro\n",
    "FROM EvCars"
   ]
  },
  {
   "cell_type": "code",
   "execution_count": null,
   "metadata": {},
   "outputs": [],
   "source": [
    "##--7.3\n",
    "ALTER TABLE EvCars\n",
    "RENAME COLUMN PriceEuro TO PriceUSD"
   ]
  }
 ],
 "metadata": {
  "language_info": {
   "name": "python"
  }
 },
 "nbformat": 4,
 "nbformat_minor": 2
}
