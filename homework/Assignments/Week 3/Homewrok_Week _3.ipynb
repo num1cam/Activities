{
 "cells": [
  {
   "cell_type": "markdown",
   "metadata": {},
   "source": [
    "# Homework 3 Drew P."
   ]
  },
  {
   "cell_type": "markdown",
   "metadata": {},
   "source": [
    "1. What is an algorithm?\n",
    "- **An algorithm is a series of steps to solve a problem at hand**\n",
    "\n",
    "2.Variable names may not start with certain characters - name two.\n",
    "- **a digit or an underscore**\n",
    "\n",
    "3. What is a Semantic error?\n",
    "- **Code is grammatically correct but doesnt make any sense; it does not produce the expected results**\n",
    "\n",
    "4. What is the #1 rule of coding / debugging?\n",
    "- **Complexity is the enemy of effeciency!\n",
    "\n",
    "5. List 5 Python reserved words.\n",
    "![Alt text](untitled:Untitled-1.ipynb/image.png?jupyter-notebook)\n"
   ]
  },
  {
   "cell_type": "code",
   "execution_count": 12,
   "metadata": {},
   "outputs": [
    {
     "name": "stdout",
     "output_type": "stream",
     "text": [
      " Whats up my name is Drew \n",
      "my favorite food is pizza \n",
      "and my dream job would include using data analysis to close million dollar deals.\n"
     ]
    }
   ],
   "source": [
    "# 6 Write a multi-line comment with your name, favorite food, and dream job on 3 different lines\n",
    "\n",
    "my_string = (\" Whats up my name is Drew \\n\"\n",
    "\"my favorite food is pizza \\n\"\n",
    "\"and my dream job would include using data analysis to close million dollar deals.\")\n",
    "print (my_string)"
   ]
  },
  {
   "cell_type": "markdown",
   "metadata": {},
   "source": []
  },
  {
   "cell_type": "code",
   "execution_count": 14,
   "metadata": {},
   "outputs": [
    {
     "name": "stdout",
     "output_type": "stream",
     "text": [
      "54\n",
      "l\n"
     ]
    }
   ],
   "source": [
    "# 7. Assign 5 different data types to 5 different variables. At least one datatype must be a string\n",
    "\n",
    "String = \"I will master my craft and become a great with python!\"\n",
    "Float = 98.6\n",
    "MyList = [\"condo\", \"apartment\", \"Toown_House\"]\n",
    "Int = 9\n",
    "Bool = True\n",
    "\n",
    "# Print the length of your string\n",
    "print(len(String))\n",
    "\n",
    "# Print the index value of the 4th character in your string\n",
    "print(String[4])\n",
    "\n",
    "\n",
    "\n",
    "\n"
   ]
  },
  {
   "cell_type": "code",
   "execution_count": null,
   "metadata": {},
   "outputs": [],
   "source": []
  },
  {
   "cell_type": "markdown",
   "metadata": {},
   "source": [
    " # 8 Create a new variable called savvy, and assign it the string with this phrase \"Learning Data Analytics and Python is Awesome!\"\n",
    "    - Return a range of characters that slices the above string from the beginning of  \"ing\" up to before \"and\"\n",
    "    - Replace \"Awesome\" with \"great\" in the string\n",
    "    - Test and print the savvy string to see it contains \"Python\""
   ]
  },
  {
   "cell_type": "code",
   "execution_count": 11,
   "metadata": {},
   "outputs": [
    {
     "name": "stdout",
     "output_type": "stream",
     "text": [
      "Learning Data Analytics and Python is Awesome!\n",
      "Learning Data Analytics and Python is Great!\n",
      "The length of savvy is ...  46\n"
     ]
    }
   ],
   "source": [
    "string = savvy = \"Learning Data Analytics and Python is Awesome!\"\n",
    "print(savvy)\n",
    "\n",
    "i = \"Learning Data Analytics and Python is Awesome!\"\n",
    "print(i.replace(\"Awesome\", \"Great\"))\n",
    "\n",
    "\n",
    "print(\"The length of savvy is ... \", len(savvy))\n"
   ]
  },
  {
   "cell_type": "code",
   "execution_count": 49,
   "metadata": {},
   "outputs": [
    {
     "name": "stdout",
     "output_type": "stream",
     "text": [
      "The length of savvy is ...  46\n"
     ]
    }
   ],
   "source": [
    "print(\"The length of savvy is ... \", len(savvy))"
   ]
  },
  {
   "cell_type": "code",
   "execution_count": 48,
   "metadata": {},
   "outputs": [
    {
     "name": "stdout",
     "output_type": "stream",
     "text": [
      "Learning Data Analytics and Python is Great!\n"
     ]
    }
   ],
   "source": [
    "\n",
    "i = \"Learning Data Analytics and Python is Awesome!\"\n",
    "print(i.replace(\"Awesome\", \"Great\"))\n"
   ]
  },
  {
   "cell_type": "code",
   "execution_count": null,
   "metadata": {},
   "outputs": [],
   "source": [
    "# 9 Create and assign 3 more variables called name, age and length using the multi-variable naming method\n",
    "#Format a new string called 'miniBio' using variables in curly brackets to complete this phrase... \"Hi my name is (name), I am (tall) and (so) old today.\"\n",
    "#Print 'miniBio'\n",
    "#Cast and print the age variable to a float\n",
    "\n"
   ]
  },
  {
   "cell_type": "code",
   "execution_count": 127,
   "metadata": {},
   "outputs": [
    {
     "name": "stdout",
     "output_type": "stream",
     "text": [
      "Drew 38 68\n",
      "Hi my name is Drew,I am 68 and 38 years old today\n",
      "38.0\n"
     ]
    }
   ],
   "source": [
    "\n",
    "name, age, length = \"Drew\", 38, 68\n",
    "\n",
    "print(name, age, length)\n",
    "miniBio = (f\"Hi my name is {name},I am {length} and {age} years old today\")\n",
    "\n",
    "print(miniBio)\n",
    "\n",
    "age = \"38\"\n",
    "age_float = float(age)\n",
    "print(age_float)"
   ]
  },
  {
   "cell_type": "markdown",
   "metadata": {},
   "source": [
    "#  10 Create a list of at least 5 elements of mixed data types\n",
    "    - Replace a part of it with something else\n",
    "    - Append or insert several more items to the list\n",
    "    - Find and print the length of the list\n",
    "    - Slice a sub-section of the 1st list, and save it to a different 2nd list\n",
    "    - Print the 2nd list\n",
    "    - Extend your original list with the 2nd list sliced above\n",
    "    - Create a new list called \"simList\" containing at least 5 elements of the same data type, either string, integer, float, or Boolean\n",
    "    - Sort \"simList\", and print the list\n",
    "    - Copy the \"simList\" list to another 3rd list\n",
    "    - Add the 2nd and 3rd lists together into a 4th list\n"
   ]
  },
  {
   "cell_type": "code",
   "execution_count": 199,
   "metadata": {},
   "outputs": [
    {
     "name": "stdout",
     "output_type": "stream",
     "text": [
      "[9, 'orange', False, 3.14, ['car', 'truck']]\n",
      "[9, 'banana', False, 3.14, ['car', 'truck']]\n",
      " replaced [1:3] ...  [9, 'blackberry', 'watermelon', 3.14, ['car', 'truck']]\n",
      "[9, 'real estate', 'technology', 'Auto_industry', 'Crypto', 'watermelon', 3.14, ['car', 'truck']]\n",
      "length of atd using len() method is: 8\n",
      "['Auto_industry']\n",
      "[9, 'real estate', 'technology', 'Auto_industry', 'Crypto', 'watermelon', 3.14, ['car', 'truck'], 'Auto_industry']\n",
      "['apartment', 'condo', 'house', 'hut', 'townhouse']\n",
      "['apartment', 'condo', 'house', 'hut', 'townhouse']\n",
      "['Auto_industry', 'apartment', 'condo', 'house', 'hut', 'townhouse']\n"
     ]
    }
   ],
   "source": [
    "# create a list 5 of elements \n",
    "atd = [9, \"orange\", False , 3.14 ,[\"car\",\"truck\"]]\n",
    "print(atd)\n",
    "\n",
    "#Replace a part of it with something else\n",
    "\n",
    "atd[1] = \"banana\"\n",
    "\n",
    "print(atd)\n",
    "\n",
    "# Append or insert several more items to the list\n",
    "\n",
    "atd = [9, \"orange\", False , 3.14 ,[\"car\",\"truck\"]]\n",
    "atd[1:3] = [\"blackberry\", \"watermelon\"]\n",
    "print(\" replaced [1:3] ... \", atd)\n",
    "\n",
    "\n",
    "atd[1:2] = [\"real estate\", \"technology\", \"Auto_industry\", \"Crypto\"]\n",
    "print(atd)\n",
    "\n",
    " # Find and print the length of the list\n",
    "print(\"length of atd using len() method is:\" ,len(atd))\n",
    "\n",
    "#Slice a sub-section of the 1st list, and save it to a different 2nd list print 2nd list\n",
    "atd2 = atd[3:4].copy()\n",
    "print(atd2)\n",
    "\n",
    "# Extend your original list with the 2nd list sliced above\n",
    "atd.extend(atd2)\n",
    "\n",
    "print(atd)\n",
    "\n",
    "#Create a new list called \"simList\" containing at least 5 elements of the same data type, either string, integer, float, or Boolean\n",
    "\n",
    "simlist = [\"house\" , \"condo\", \"apartment\", \"townhouse\", \"hut\"]\n",
    "\n",
    "# Sort \"simlist\"\n",
    "simlist.sort()\n",
    "print(simlist)\n",
    "\n",
    "#Copy the \"simList\" list to another 3rd list\n",
    "list3 = simlist.copy()\n",
    "print(list3)\n",
    "\n",
    "#Add the 2nd and 3rd lists together into a 4th list\n",
    "list4 = atd2 + simlist\n",
    "print(list4)\n",
    "\n"
   ]
  },
  {
   "cell_type": "markdown",
   "metadata": {},
   "source": [
    "# 11. Create a tuple of about 5 elements\n",
    "    - Multiply your tuple by 3 and save it to a new 2nd tuple\n",
    "    - Access and print the 12th element from the 2nd tuple\n",
    "    - Sort the 2nd tuple and print it\n",
    "    - Copy 4 specific elements from your 2nd tuple to a new 3nd tuple\n",
    "    - Unpack the 3rd tuple into 4 variables and print these variables\n",
    "    - Create a 4th tuple with single item 50 and print this tuple\n",
    "    - Add the 2nd and 3rd tuple together into a 5th tuple and print the tuple\n"
   ]
  },
  {
   "cell_type": "code",
   "execution_count": 223,
   "metadata": {},
   "outputs": [
    {
     "name": "stdout",
     "output_type": "stream",
     "text": [
      "('real_estate', 'technology', 'fitness', 'family', 'spirituality')\n",
      "('real_estate', 'technology', 'fitness', 'family', 'spirituality', 'real_estate', 'technology', 'fitness', 'family', 'spirituality', 'real_estate', 'technology', 'fitness', 'family', 'spirituality', 'real_estate', 'technology', 'fitness', 'family', 'spirituality', 'real_estate', 'technology', 'fitness', 'family', 'spirituality', 'real_estate', 'technology', 'fitness', 'family', 'spirituality', 'real_estate', 'technology', 'fitness', 'family', 'spirituality', 'real_estate', 'technology', 'fitness', 'family', 'spirituality', 'real_estate', 'technology', 'fitness', 'family', 'spirituality')\n",
      "('fitness',)\n",
      "['family', 'family', 'family', 'fitness', 'fitness', 'fitness', 'real_estate', 'real_estate', 'real_estate', 'spirituality', 'spirituality', 'spirituality', 'technology', 'technology', 'technology']\n",
      "('real_estate', 'technology', 'fitness', 'family')\n",
      "real_estate\n",
      "technology\n",
      "fitness\n",
      "family\n",
      "50\n",
      "('real_estate', 'technology', 'fitness', 'family', 'real_estate', 'technology', 'fitness', 'family', 'spirituality', 'real_estate', 'technology', 'fitness', 'family', 'spirituality', 'real_estate', 'technology', 'fitness', 'family', 'spirituality')\n"
     ]
    }
   ],
   "source": [
    "## 11. Create a tuple of about 5 elements\n",
    "tuple = (\"real_estate\", \"technology\", \"fitness\", \"family\", \"spirituality\")\n",
    "print(mytuple)\n",
    "\n",
    "#Multiply your tuple by 3 and save it to a new 2nd tuple\n",
    "tuple2 = tuple * 3\n",
    "print(tuple2 * 3)\n",
    "\n",
    "#Access and print the 12th element from the 2nd tuple\n",
    "print(tuple2[12:13])\n",
    "\n",
    "#sort the 2nd tuple and print it \n",
    "print(sorted(tuple2))\n",
    "\n",
    "#Copy 4 specific elements from your 2nd tuple to a new 3nd tuple\n",
    "tuple3 = tuple2[0:4]\n",
    "print(tuple3)\n",
    "\n",
    "#Unpack the 3rd tuple into 4 variables and print these variables\n",
    "(green, yellow, purple, gold) = tuple3\n",
    "print(green)\n",
    "print(yellow)\n",
    "print(purple)\n",
    "print(gold)\n",
    "\n",
    "# Create a 4th tuple with single item 50 and print this tuple\n",
    "tuple4 = 50\n",
    "print(tuple4)\n",
    "\n",
    "#Add the 2nd and 3rd tuple together into a 5th tuple and print the tuple\n",
    "tuple5 =  tuple3 + tuple2\n",
    "print(tuple5)"
   ]
  },
  {
   "cell_type": "markdown",
   "metadata": {},
   "source": [
    "# 12 Create a set of about 3 elements\n",
    "    - Add a list of fruits to the above set and print the result\n",
    "    - Add a car element to your set\n",
    "    - Create a 2nd set with a few odd items\n",
    "    - Save the union of 1st set and 2nd set to a 3rd set\n",
    "    - Pop an element from the 2nd set, and print the remainder of the set\n",
    "    - Clear the 1st set and print the result\n",
    "    - Discard an element, and remove another element from the 3rd set\n",
    "    - Print the remainder of the 3rd set\n"
   ]
  },
  {
   "cell_type": "code",
   "execution_count": 250,
   "metadata": {},
   "outputs": [
    {
     "name": "stdout",
     "output_type": "stream",
     "text": [
      "{'sock', 'cherry, strawberries , blueberries', 'foot', 'shoe', ' blueberries', ',strawberries'}\n",
      "{'car', 'sock', 'cherry, strawberries , blueberries', 'foot', 'shoe', ' blueberries', ',strawberries'}\n",
      "{'car', 'two_pennies', 'sock', 'wrench', 'cherry, strawberries , blueberries', 'foot', 'lint', 'shoe', ' blueberries', ',strawberries'}\n",
      "{'lint', 'wrench'}\n",
      "set()\n",
      "{'lint'}\n"
     ]
    }
   ],
   "source": [
    "## 12 Create a set of about 3 elements\n",
    "set1 = {\"foot\", \"sock\", \"shoe\"}\n",
    "\n",
    "# Add a list of fruits to the above set and print the result\n",
    "set1.add(\"cherry, strawberries , blueberries\")\n",
    "set1.add(\" blueberries\")\n",
    "set1.add(\",strawberries\")\n",
    "print(set1)\n",
    "\n",
    "#Add a car element to your set\n",
    "set1.add(\"car\")\n",
    "print(set1)\n",
    "\n",
    "#Create a 2nd set with a few odd items\n",
    "set2 = {\"wrench\", \"lint\", \"two_pennies\"}\n",
    "\n",
    "# Save the union of 1st set and 2nd set to a 3rd set\n",
    "set3 = set1.union(set2) \n",
    "print(set3)\n",
    "\n",
    "#Pop an element from the 2nd set, and print the remainder of the set\n",
    "set2.pop()\n",
    "print(set2)\n",
    "\n",
    "#Clear the 1st set and print the result\n",
    "set1.clear()\n",
    "print(set1)\n",
    "\n",
    "#Discard an element, and remove another element from the 3rd set\n",
    "\n",
    "set2.discard(\"wrench\")\n",
    "set3.remove(\"lint\")\n",
    "\n",
    "# Print the remainder of the 3rd set\n",
    "print(set3)\n",
    "\n",
    "\n",
    "\n"
   ]
  },
  {
   "cell_type": "markdown",
   "metadata": {},
   "source": [
    "# 13. Create a dictionary with at least 5 values of different data types\n",
    "    - Print out 1 value\n",
    "    - Replace any one value in your dictionary with your name\n",
    "    - Add your favorite color to the dictionary\n",
    "    - Add a list, tuple or set to your dictionary\n",
    "    - Print a list of the dictionary keys\n",
    "    - Print a list of the dictionary values\n",
    "    - Copy your 1st dictionary into a 2nd dictionary\n",
    "    - Pop an item from the 2nd dictionary, and print the dictionary\n",
    "    - Remove all the elements from the 2nd dictionary and print the result\n"
   ]
  },
  {
   "cell_type": "code",
   "execution_count": 10,
   "metadata": {},
   "outputs": [
    {
     "name": "stdout",
     "output_type": "stream",
     "text": [
      "audi\n",
      "{'brand': 'Drew', 'model': 's7', 'electric': True, 'year': 2023, 'weight': '3049 lbs', 'hors_power': 300, 'cu-in_capacity': 288.5, 'colors': ['black', 'grey', 'matte_black']}\n",
      "{'brand': 'Drew', 'model': 's7', 'electric': True, 'year': 2023, 'weight': '3049 lbs', 'hors_power': 300, 'cu-in_capacity': 288.5, 'colors': ['black', 'grey', 'matte_black'], 'favorite color': 'Red'}\n",
      "{'brand': 'Drew', 'model': 's7', 'electric': True, 'year': 2023, 'weight': '3049 lbs', 'hors_power': 300, 'cu-in_capacity': 288.5, 'colors': ['black', 'grey', 'matte_black'], 'favorite color': 'Red', 'workouts': {'body_building', 'cross_fit', 'power_lifting'}}\n",
      "dict_keys(['brand', 'model', 'electric', 'year', 'weight', 'hors_power', 'cu-in_capacity', 'colors', 'favorite color', 'workouts'])\n",
      "dict_values(['Drew', 's7', True, 2023, '3049 lbs', 300, 288.5, ['black', 'grey', 'matte_black'], 'Red', {'body_building', 'cross_fit', 'power_lifting'}])\n",
      "{'brand': 'Drew', 'model': 's7', 'electric': True, 'year': 2023, 'weight': '3049 lbs', 'hors_power': 300, 'cu-in_capacity': 288.5, 'colors': ['black', 'grey', 'matte_black'], 'favorite color': 'Red', 'workouts': {'body_building', 'cross_fit', 'power_lifting'}}\n",
      "{'model': 's7', 'electric': True, 'year': 2023, 'weight': '3049 lbs', 'hors_power': 300, 'cu-in_capacity': 288.5, 'colors': ['black', 'grey', 'matte_black'], 'favorite color': 'Red', 'workouts': {'body_building', 'cross_fit', 'power_lifting'}}\n"
     ]
    }
   ],
   "source": [
    "# 13. Create a dictionary with at least 5 values of different data types\n",
    "thisDict = {\n",
    "    \"brand\": \"audi\",\n",
    "    \"model\": \"s7\",\n",
    "    \"electric\": True,\n",
    "    \"year\": 2023,\n",
    "    \"weight\" : \"3049 lbs\",\n",
    "    \"hors_power\": 300,\n",
    "    \"cu-in_capacity\": 288.5,\n",
    "    \"colors\": [\"black\", \"grey\", \"matte_black\"]\n",
    "}\n",
    "\n",
    "#Print out 1 value\n",
    "print(thisDict.get(\"brand\"))\n",
    "\n",
    "\n",
    "#Replace any one value in your dictionary with your name\n",
    "thisDict[\"brand\"] = \"Drew\"\n",
    "print(thisDict)\n",
    "\n",
    "#Add your favorite color to the dictionary\n",
    "thisDict[\"favorite color\"] = \"Red\"\n",
    "print(thisDict)\n",
    "\n",
    "#Add a list, tuple or set to your dictionary\n",
    "thisDict[\"workouts\"] = {\"cross_fit\",\"power_lifting\",\"body_building\"}\n",
    "print(thisDict)\n",
    "\n",
    "# Print a list of the dictionary keys\n",
    "print(thisDict.keys())\n",
    "\n",
    "#Print a list of the dictionary values\n",
    "print(thisDict.values()) \n",
    "\n",
    "# Copy your 1st dictionary into a 2nd dictionary\n",
    "thisDict2 =  thisDict.copy()\n",
    "print(thisDict2)\n",
    "\n",
    "# Pop an item from the 2nd dictionary, and print the dictionary\n",
    "thisDict2.pop(\"brand\")\n",
    "print(thisDict2)\n",
    "\n",
    "#Remove all the elements from the 2nd dictionary and print the result\n",
    "thisDict2.clear()\n",
    "print(thisDict2)\n",
    "\n"
   ]
  }
 ],
 "metadata": {
  "kernelspec": {
   "display_name": "Python 3",
   "language": "python",
   "name": "python3"
  },
  "language_info": {
   "codemirror_mode": {
    "name": "ipython",
    "version": 3
   },
   "file_extension": ".py",
   "mimetype": "text/x-python",
   "name": "python",
   "nbconvert_exporter": "python",
   "pygments_lexer": "ipython3",
   "version": "3.11.5"
  }
 },
 "nbformat": 4,
 "nbformat_minor": 2
}
