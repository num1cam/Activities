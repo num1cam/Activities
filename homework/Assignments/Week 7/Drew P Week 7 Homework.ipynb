{
 "cells": [
  {
   "cell_type": "markdown",
   "metadata": {},
   "source": [
    "# SECTION 07\n",
    "### Drew P HW Week 7\n"
   ]
  },
  {
   "cell_type": "markdown",
   "metadata": {},
   "source": [
    "Question 1 "
   ]
  },
  {
   "cell_type": "code",
   "execution_count": null,
   "metadata": {},
   "outputs": [],
   "source": [
    "SELECT ModelYear, Make, Model\n",
    "FROM EVRegistry"
   ]
  },
  {
   "cell_type": "markdown",
   "metadata": {},
   "source": [
    "Question 2"
   ]
  },
  {
   "cell_type": "code",
   "execution_count": null,
   "metadata": {},
   "outputs": [],
   "source": [
    "SELECT DISTINCT ElectricVehicleType\n",
    "FROM EVRegistry"
   ]
  },
  {
   "cell_type": "markdown",
   "metadata": {},
   "source": [
    "Question 3"
   ]
  },
  {
   "cell_type": "code",
   "execution_count": null,
   "metadata": {},
   "outputs": [],
   "source": [
    "SELECT *\n",
    "FROM EVRegistry\n",
    "WHERE ElectricVehicleType = 'Battery Electric Vehicle (BEV)'"
   ]
  },
  {
   "cell_type": "markdown",
   "metadata": {},
   "source": [
    "Question 4"
   ]
  },
  {
   "cell_type": "code",
   "execution_count": null,
   "metadata": {},
   "outputs": [],
   "source": [
    "SELECT Make, Model\n",
    "FROM EVRegistry\n",
    "WHERE BaseMSRP BETWEEN 20000 AND 35000 "
   ]
  },
  {
   "cell_type": "markdown",
   "metadata": {},
   "source": [
    "# 7.2 HW Questions"
   ]
  },
  {
   "cell_type": "markdown",
   "metadata": {},
   "source": [
    "Question 1"
   ]
  },
  {
   "cell_type": "code",
   "execution_count": null,
   "metadata": {},
   "outputs": [],
   "source": [
    "SELECT *\n",
    "FROM EVRegistry\n",
    "WHERE City is NULL"
   ]
  },
  {
   "cell_type": "markdown",
   "metadata": {},
   "source": [
    "Question 2"
   ]
  },
  {
   "cell_type": "code",
   "execution_count": null,
   "metadata": {},
   "outputs": [],
   "source": [
    "SELECT Make, Model, ElectricVehicleType\n",
    "FROM EVRegistry\n",
    "WHERE VIN like \"%3E1EA1J\""
   ]
  },
  {
   "cell_type": "markdown",
   "metadata": {},
   "source": [
    "Question 3"
   ]
  },
  {
   "cell_type": "code",
   "execution_count": null,
   "metadata": {},
   "outputs": [],
   "source": [
    "SELECT ModelYear, Make, Model, ElectricVehicleType, ElectricRange\n",
    "FROM EVRegistry\n",
    "WHERE (Make= \"TESLA\") or (Make= \"CHEVROLET\")\n",
    "ORDER by Make ASC, ModelYear ASC  "
   ]
  },
  {
   "cell_type": "markdown",
   "metadata": {},
   "source": [
    "Question 4"
   ]
  },
  {
   "cell_type": "code",
   "execution_count": null,
   "metadata": {},
   "outputs": [],
   "source": [
    "SELECT StationID, Count(*) as numUses\n",
    "FROM EVCharging\n",
    "GROUP BY StationID \n",
    "ORDER BY COUNT(*) DESC\n",
    "LIMIT 5"
   ]
  },
  {
   "cell_type": "markdown",
   "metadata": {},
   "source": [
    "Question 5 "
   ]
  },
  {
   "cell_type": "code",
   "execution_count": null,
   "metadata": {},
   "outputs": [],
   "source": [
    "SELECT userId, min(chargeTimeHrs) as \"minTime\", max(chargeTimeHrs) as \"maxTime\"\n",
    "FROM EVCharging\n",
    "WHERE chargeTimeHrs > 0.5\n",
    "GROUP by userId\n",
    "ORDER by 2,3"
   ]
  },
  {
   "cell_type": "markdown",
   "metadata": {},
   "source": [
    "# Section 7.3"
   ]
  },
  {
   "cell_type": "markdown",
   "metadata": {},
   "source": [
    "Question 1"
   ]
  },
  {
   "cell_type": "code",
   "execution_count": null,
   "metadata": {},
   "outputs": [],
   "source": [
    "SELECT weekday, round(avg(chargeTimeHrs),2) as 'avgChargeTime'\n",
    "FROM EVCharging\n",
    "GROUP by weekday\n",
    "order by avgChargeTime DESC"
   ]
  },
  {
   "cell_type": "markdown",
   "metadata": {},
   "source": [
    "Question 2"
   ]
  },
  {
   "cell_type": "code",
   "execution_count": null,
   "metadata": {},
   "outputs": [],
   "source": [
    "SELECT userId, round(sum(kwhTotal),2) as 'totalPower'\n",
    "FROM EVCharging\n",
    "group by userId\n",
    "ORDER by totalPower DESC\n",
    "LIMIT 15"
   ]
  },
  {
   "cell_type": "markdown",
   "metadata": {},
   "source": [
    "Question 3"
   ]
  },
  {
   "cell_type": "code",
   "execution_count": null,
   "metadata": {},
   "outputs": [],
   "source": [
    "SELECT dimFacility.typeFacility as typeFacility, count(factCharge.stationId) as numStation\n",
    "FROM dimFacility, factCharge\n",
    "WHERE dimFacility.FacilityKey = factCharge.facilityID\n",
    "GROUP by typeFacility\n",
    "ORDER by numStation DESC"
   ]
  },
  {
   "cell_type": "markdown",
   "metadata": {},
   "source": [
    "Question 4\n",
    "\n",
    "Foreign keys can link data with other tables . A foreign key in a table is primary key from another data base . A primary key in  a table shows unique data in a row."
   ]
  },
  {
   "cell_type": "markdown",
   "metadata": {},
   "source": [
    "Question 5"
   ]
  },
  {
   "cell_type": "code",
   "execution_count": null,
   "metadata": {},
   "outputs": [],
   "source": [
    "SELECT userId, min(chargeTimeHrs) as minTime, max(chargeTimeHrs) as maxTime\n",
    "FROM EVCharging\n",
    "GROUP by userId\n",
    "HAVING minTime > 1.0\n",
    "ORDER by 2 ASC, 3 ASC"
   ]
  }
 ],
 "metadata": {
  "kernelspec": {
   "display_name": "Python 3",
   "language": "python",
   "name": "python3"
  },
  "language_info": {
   "codemirror_mode": {
    "name": "ipython",
    "version": 3
   },
   "file_extension": ".py",
   "mimetype": "text/x-python",
   "name": "python",
   "nbconvert_exporter": "python",
   "pygments_lexer": "ipython3",
   "version": "3.11.5"
  }
 },
 "nbformat": 4,
 "nbformat_minor": 2
}
