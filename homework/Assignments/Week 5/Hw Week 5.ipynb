{
 "cells": [
  {
   "cell_type": "code",
   "execution_count": null,
   "metadata": {},
   "outputs": [],
   "source": []
  },
  {
   "cell_type": "markdown",
   "metadata": {},
   "source": [
    "**1. What does Pandas stand for?**\n",
    "- **Pandas** - An open-source Python package that is widely used\n",
    "- Built on top of NumPy (supports 1+ D arrays)\n",
    "- **Stands for either**: \n",
    "    1. Panel Data \n",
    "    2. Python Data Analysis\n",
    "- Created by Wes McKinney in 2008\n",
    "\n",
    "\n",
    "**2. What are the 2 collections used in Pandas?**\n",
    "Series and data frames \n",
    "\n",
    "\n",
    "**3. Name 4 things Pandas can do for us.**\n",
    "Data cleansing, data fill ,data normilization and data visialization and mrge and joinsinspectio loading and saving data \n",
    "\n",
    "**4. To permanently sort a DataFrame, which keyword should one use with the df.sort() method?**  in place = true \n",
    "\n",
    "**5. What is a CSV?**\n",
    "A file contains plan text and is well know format that can be ready by eveyone including pandas\n",
    "\n",
    "\n",
    "**6. When cleaning data what values do we not like in our data?**  missing values nan and none"
   ]
  },
  {
   "cell_type": "code",
   "execution_count": null,
   "metadata": {},
   "outputs": [],
   "source": [
    "# 7.Import NumPy, use one of the NumPy methods and create an array with a shape\n",
    "# of (2, 3, 2). You can use the reshape method -- .reshape()\n",
    "\n",
    "import numpy as np\n",
    "\n",
    "data = np.array([0, 1, 2, 3, 4, 5, 6, 7, 8, 9, 10, 11])\n",
    "\n",
    "array = data.reshape(2, 3, 2)\n",
    "\n",
    "print(array)"
   ]
  },
  {
   "cell_type": "code",
   "execution_count": null,
   "metadata": {},
   "outputs": [],
   "source": [
    "## 8. Use NumPy .linspace() to create an array with 6 linearly spaced values between 0 and 20\n",
    "array = np.linspace(0, 20, 6)\n",
    "\n",
    "print(array)"
   ]
  },
  {
   "cell_type": "code",
   "execution_count": null,
   "metadata": {},
   "outputs": [],
   "source": [
    "## 9. Make a Deep Copy of the above array\n",
    "dc_array = array.copy()\n",
    "\n",
    "print(dc_array)"
   ]
  },
  {
   "cell_type": "code",
   "execution_count": 3,
   "metadata": {},
   "outputs": [
    {
     "name": "stdout",
     "output_type": "stream",
     "text": [
      "[[25 16]\n",
      " [11  2]\n",
      " [13  4]\n",
      " [ 7 81]\n",
      " [ 5  6]\n",
      " [11 12]]\n"
     ]
    }
   ],
   "source": [
    "## 10.Concatenate these 3 arrays into a new array named 'newArray'..\n",
    "#([[25, 16]])\n",
    "        #([[11, 2], [13, 4]])\n",
    "        #([[7, 81], [5, 6], [11, 12]])\n",
    "\n",
    "array1 = np.array([[25, 16]])\n",
    "array2 = np.array([[11, 2], [13, 4]])\n",
    "array3 = np.array([[7, 81], [5, 6], [11, 12]])\n",
    "\n",
    "newArray = np.concatenate((array1, array2, array3), axis=0)\n",
    "\n",
    "print(newArray)\n"
   ]
  },
  {
   "cell_type": "code",
   "execution_count": 4,
   "metadata": {},
   "outputs": [
    {
     "name": "stdout",
     "output_type": "stream",
     "text": [
      "[[ 5  2]\n",
      " [ 7  4]\n",
      " [11  6]\n",
      " [11 12]\n",
      " [13 16]\n",
      " [25 81]]\n"
     ]
    }
   ],
   "source": [
    "## 11. Sort 'newArray' in order into 'sortedArray'\n",
    "sortedArray = np.sort(newArray, axis=0)\n",
    "\n",
    "print(sortedArray)\n"
   ]
  },
  {
   "cell_type": "code",
   "execution_count": 6,
   "metadata": {},
   "outputs": [
    {
     "name": "stdout",
     "output_type": "stream",
     "text": [
      "Variable 1: [5 2]\n",
      "Variable 2: [7 4]\n",
      "Variable 3: [11  6]\n",
      "Variable 4: [11 12]\n"
     ]
    }
   ],
   "source": [
    "## 12.Unpack the array tuples from the above 'reshapedArray' into 4 well named variables. \n",
    "#Print the 4 variables.\n",
    "\n",
    "reshapedArray = np.array([(5, 2), (7, 4), (11, 6), (11, 12)])\n",
    "\n",
    "# Unpack the tuples into 4 well-named variables\n",
    "var1, var2, var3, var4 = reshapedArray\n",
    "\n",
    "# Print the 4 variables\n",
    "print(\"Variable 1:\", var1)\n",
    "print(\"Variable 2:\", var2)\n",
    "print(\"Variable 3:\", var3)\n",
    "print(\"Variable 4:\", var4)\n"
   ]
  },
  {
   "cell_type": "code",
   "execution_count": 11,
   "metadata": {},
   "outputs": [
    {
     "name": "stdout",
     "output_type": "stream",
     "text": [
      "[ 0  1  2  3  4  5  6  7 10 11 12 13 14 15 16 17 20 21 22 23 24 25 26 27]\n"
     ]
    }
   ],
   "source": [
    "##13. Combined and sort the following arrays into one called 'comboArray' ...\n",
    "\n",
    "#one = ([10, 11, 12, 13, 14, 15, 16, 17])\n",
    "    #two = ([20, 21, 22, 23, 24, 25, 26, 27])\n",
    "    #three = ([ 0, 1, 2, 3, 4, 5, 6, 7])\n",
    "\n",
    "import numpy as np\n",
    "\n",
    "one = np.array([10, 11, 12, 13, 14, 15, 16, 17])\n",
    "two = np.array([20, 21, 22, 23, 24, 25, 26, 27])\n",
    "three = np.array([ 0, 1, 2, 3, 4, 5, 6, 7])\n",
    "\n",
    "#Example  1:\n",
    "# sorted_array = np.sort(one, two, three)\n",
    "\n",
    "# combo_array = sorted_array\n",
    "\n",
    "# print(combo_array)\n",
    "\n",
    "\n",
    "#Example  2:\n",
    "comboArray = np.concatenate((one, two, three))\n",
    "\n",
    "sortedComboArray = np.sort(comboArray)\n",
    "\n",
    "print(sortedComboArray)\n",
    "\n"
   ]
  },
  {
   "cell_type": "code",
   "execution_count": null,
   "metadata": {},
   "outputs": [],
   "source": [
    "#14. Take 'comboArray' and perform the following slicing activities:\n",
    "#print sec1 - the 2nd element\n",
    "#print sec2 - all elements from the 3rd element to the last\n",
    "#print sec3 - all elements from the 4th to the 14th elements\n",
    "#print sec4 - the last 6 elements\n",
    "#print sec5 - all element from #0 up to and including #15, \n",
    "#using the negative number method, i.e. taking a section from the end.\n",
    "#print sec6 - from #20 every even element to the end\n",
    "#print sec7 - from the last element moving forward, every 5th element.\n",
    "\n",
    "# sec1 - the 2nd element\n",
    "sec1 = sortedComboArray[1]\n",
    "\n",
    "# sec2 - all elements from the 3rd element to the last\n",
    "sec2 = sortedComboArray[2:]\n",
    "\n",
    "# sec3 - all elements from the 4th to the 14th elements\n",
    "sec3 = sortedComboArray[3:14]\n",
    "\n",
    "# sec4 - the last 6 elements\n",
    "sec4 = sortedComboArray[-6:]\n",
    "\n",
    "# sec5 - all elements from #0 up to and including #15\n",
    "sec5 = sortedComboArray[:14]\n",
    "\n",
    "# sec6 - from #20 every even element to the end\n",
    "sec6 = sortedComboArray[16:]\n",
    "\n",
    "# sec7 - from the last element moving forward, every 5th element\n",
    "sec7 = sortedComboArray[::-5]\n",
    "\n",
    "# Printing the results\n",
    "print(\"sec1:\", sec1)\n",
    "print(\"sec2:\", sec2)\n",
    "print(\"sec3:\", sec3)\n",
    "print(\"sec4:\", sec4)\n",
    "print(\"sec5:\", sec5)\n",
    "print(\"sec6:\", sec6)\n",
    "print(\"sec7:\", sec7)\n",
    "\n",
    "\n"
   ]
  },
  {
   "cell_type": "code",
   "execution_count": null,
   "metadata": {},
   "outputs": [],
   "source": [
    "#15. Using Series, create a DataFrame that looks like this:\n",
    "\n",
    "#| Ingredients | Quantity | Unit | |----|----|----| | Flour | 4 | cups | | Milk | 1 | cup | | Eggs | 2 | large | | Spam | 1 | can |\n",
    "\n",
    "#Name: Dinner, dtype: object\n",
    "\n",
    "import pandas as pd\n",
    "\n",
    "df = pd.DataFrame({\n",
    "    'Ingredients': ['Flour', 'Milk', 'Eggs', 'Spam'],\n",
    "    'Quantity': [4, 1, 2, 1],\n",
    "    'Unit': ['cups', 'cup', 'large', 'can']\n",
    "})\n",
    "\n",
    "df "
   ]
  },
  {
   "cell_type": "code",
   "execution_count": null,
   "metadata": {},
   "outputs": [],
   "source": [
    "#16. Take this data and create a DataFrame named studentData\n",
    "#{'Name': ['Jai', 'janusha', 'Gaurav', 'Anuj'],\n",
    " #       'Height': [5.1, 6.2, 5.1, 5.2],\n",
    "  #      'Qualification': ['Msc', 'MA', 'Msc', 'Msc'],\n",
    "   #     'address': ['Delhi', 'Doha', 'Chennai', 'Dakhar'],\n",
    "    #    'Age': [21, 23, 24, 21],\n",
    "     #  'sport': ['Darts', 'Basketball', 'PaddleBoarding', 'Cricket']\n",
    "    #}\n",
    "\n",
    "import pandas as pd \n",
    "studentData =  pd.DataFrame({'Name': ['Jai', 'janusha', 'Gaurav', 'Anuj'],\n",
    "            'Height': [5.1, 6.2, 5.1, 5.2],\n",
    "            'Qualification': ['Msc', 'MA', 'Msc', 'Msc'],\n",
    "            'address': ['Delhi', 'Doha', 'Chennai', 'Dakhar'],\n",
    "            'Age': [21, 23, 24, 21],\n",
    "            'Pets': ['Dog', 'Bunny', 'Chinchilla', 'Parrot'],\n",
    "            'sport': ['Darts', 'Basketball', 'PaddleBoarding', 'Cricket']\n",
    "        })\n",
    "\n",
    "studentData"
   ]
  },
  {
   "cell_type": "code",
   "execution_count": null,
   "metadata": {},
   "outputs": [],
   "source": [
    "#17. Add a new column to the DataFrame with the following deserts:\n",
    "# [\"ice cream\", \"Cashew Fudge\", \"waffels\", \"Carrot Halwa\"]\n",
    "\n",
    "#Example  1:\n",
    "\n",
    "# studentData = studentData.append({\"ice cream\", \"Cashew Fudge\", \"waffels\", \"Carrot Halwa\"})\n",
    "\n",
    "# studentData\n",
    "\n",
    "#Example 2:\n",
    "# studentData2 = pd.DataFrame({\n",
    "#     'Name': ['Jai', 'janusha', 'Gaurav', 'Anuj'],\n",
    "#             'Height': [5.1, 6.2, 5.1, 5.2],\n",
    "#             'Qualification': ['Msc', 'MA', 'Msc', 'Msc'],\n",
    "#             'address': ['Delhi', 'Doha', 'Chennai', 'Dakhar'],\n",
    "#             'Age': [21, 23, 24, 21],\n",
    "#             'Pets': ['Dog', 'Bunny', 'Chinchilla', 'Parrot'],\n",
    "#             'sport': ['Darts', 'Basketball', 'PaddleBoarding', 'Cricket'],\n",
    "#             'ice cream': [\"Cashew Fudge\", \"waffels\", \"Carrot Halwa\"]\n",
    "#             })\n",
    "# studentData2\n",
    "\n",
    "#Trial 3: \n",
    "studentData3 = pd.DataFrame({\n",
    "    'Name': ['Jai', 'janusha', 'Gaurav', 'Anuj'],\n",
    "            'Height': [5.1, 6.2, 5.1, 5.2],\n",
    "            'Qualification': ['Msc', 'MA', 'Msc', 'Msc'],\n",
    "            'address': ['Delhi', 'Doha', 'Chennai', 'Dakhar'],\n",
    "            'Age': [21, 23, 24, 21],\n",
    "            'Pets': ['Dog', 'Bunny', 'Chinchilla', 'Parrot'],\n",
    "            'sport': ['Darts', 'Basketball', 'PaddleBoarding', 'Cricket'],\n",
    "            'ice cream': [\"Cashew Fudge\", \"waffels\", \"Carrot Halwa\",\"Vanilla\"]\n",
    "            })\n",
    "studentData3\n",
    "\n",
    "#Added Vanilla because needed an additonal value"
   ]
  },
  {
   "cell_type": "code",
   "execution_count": null,
   "metadata": {},
   "outputs": [],
   "source": [
    "#18 Sort the 'studentData' DataFrame in Ascending order \n",
    "#-- Sorting by column 'Name' and then \"address\"\n",
    "\n",
    "studentData3 = studentData3.sort_values( by= ['Name', 'address'], ascending = [True, True])\n",
    "\n",
    "studentData3 "
   ]
  },
  {
   "cell_type": "code",
   "execution_count": 45,
   "metadata": {},
   "outputs": [
    {
     "data": {
      "text/html": [
       "<div>\n",
       "<style scoped>\n",
       "    .dataframe tbody tr th:only-of-type {\n",
       "        vertical-align: middle;\n",
       "    }\n",
       "\n",
       "    .dataframe tbody tr th {\n",
       "        vertical-align: top;\n",
       "    }\n",
       "\n",
       "    .dataframe thead th {\n",
       "        text-align: right;\n",
       "    }\n",
       "</style>\n",
       "<table border=\"1\" class=\"dataframe\">\n",
       "  <thead>\n",
       "    <tr style=\"text-align: right;\">\n",
       "      <th></th>\n",
       "      <th>Unnamed: 0</th>\n",
       "      <th>Cows</th>\n",
       "      <th>Goats</th>\n",
       "    </tr>\n",
       "  </thead>\n",
       "  <tbody>\n",
       "    <tr>\n",
       "      <th>0</th>\n",
       "      <td>Year 1</td>\n",
       "      <td>12</td>\n",
       "      <td>22</td>\n",
       "    </tr>\n",
       "    <tr>\n",
       "      <th>1</th>\n",
       "      <td>Year 2</td>\n",
       "      <td>20</td>\n",
       "      <td>19</td>\n",
       "    </tr>\n",
       "  </tbody>\n",
       "</table>\n",
       "</div>"
      ],
      "text/plain": [
       "  Unnamed: 0  Cows  Goats\n",
       "0     Year 1    12     22\n",
       "1     Year 2    20     19"
      ]
     },
     "execution_count": 45,
     "metadata": {},
     "output_type": "execute_result"
    }
   ],
   "source": [
    "## 19. Save this DataFrame here below to disc as a .CSV file with the name cows_and_goats.csv:\n",
    "\n",
    "#df = pd.DataFrame({'Cows': [12, 20], 'Goats': [22, 19]}, index=['Year 1', 'Year 2'])\n",
    "\n",
    "import pandas as pd\n",
    "\n",
    "df = pd.DataFrame({'Cows': [12, 20], \n",
    "                   'Goats': [22, 19]}, \n",
    "                   index=['Year 1', 'Year 2'])\n",
    "\n",
    "df.to_csv('cows_and_goats.csv')\n",
    "\n",
    "df= pd.read_csv('cows_and_goats.csv')\n",
    "\n",
    "df"
   ]
  },
  {
   "cell_type": "code",
   "execution_count": null,
   "metadata": {},
   "outputs": [],
   "source": [
    "#20.(A) Using Pandas, make your own .CSV file with data on vegetables and save it. \n",
    "#(B) Using Pandas, make a change to your CSV file,\n",
    " # and save a copy with a different name\n",
    "\n",
    "import pandas as pd\n",
    "\n",
    "# Create a DataFrame with vegetable data\n",
    "vegetables_data = {\n",
    "    'Vegetable': ['Carrot', 'Broccoli', 'Spinach', 'Tomato', 'Cucumber'],\n",
    "    'Color': ['Orange', 'Green', 'Green', 'Red', 'Green'],\n",
    "    'Taste': ['Sweet', 'Crunchy', 'Leafy', 'Juicy', 'Refreshing']\n",
    "}\n",
    "\n",
    "vegetables_df = pd.DataFrame(vegetables_data)\n",
    "\n",
    "\n",
    "\n",
    "# Save the DataFrame to a CSV file\n",
    "vegetables_df.to_csv('vegetables.csv')\n",
    "\n",
    "vegetables_df\n"
   ]
  },
  {
   "cell_type": "code",
   "execution_count": 47,
   "metadata": {},
   "outputs": [],
   "source": [
    "vegetables_df = pd.read_csv('vegetables.csv')\n",
    "\n",
    "# Make changes to the DataFrame (e.g., add a new column)\n",
    "vegetables_df['Nutrition'] = ['Healthy', 'Nutrient-Rich', 'Low-Calorie', 'Vitamin-C', 'Hydrating']\n",
    "\n",
    "# Save the modified DataFrame to a new CSV file with a different name\n",
    "mod_veg_df = 'vegetables_modified.csv'\n",
    "vegetables_df.to_csv(mod_veg_df)"
   ]
  }
 ],
 "metadata": {
  "kernelspec": {
   "display_name": "Python 3",
   "language": "python",
   "name": "python3"
  },
  "language_info": {
   "codemirror_mode": {
    "name": "ipython",
    "version": 3
   },
   "file_extension": ".py",
   "mimetype": "text/x-python",
   "name": "python",
   "nbconvert_exporter": "python",
   "pygments_lexer": "ipython3",
   "version": "3.11.5"
  }
 },
 "nbformat": 4,
 "nbformat_minor": 2
}
