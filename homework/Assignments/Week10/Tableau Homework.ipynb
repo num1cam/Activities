{
 "cells": [
  {
   "cell_type": "markdown",
   "metadata": {},
   "source": [
    "## Drew Pearson Week 10 Homework\n",
    "\n",
    "https://public.tableau.com/app/profile/drew.pearson/vizzes"
   ]
  }
 ],
 "metadata": {
  "language_info": {
   "name": "python"
  }
 },
 "nbformat": 4,
 "nbformat_minor": 2
}
