{
 "cells": [
  {
   "cell_type": "markdown",
   "metadata": {},
   "source": [
    "# Drew P Homework Week 4 "
   ]
  },
  {
   "cell_type": "markdown",
   "metadata": {},
   "source": [
    "#### _1)What does one need to do to use a module?_\n",
    "*  We first need to import the respective module into our code-base. by using the import statement. \n",
    "\n",
    "\n",
    "#### _2)Name a Module (not the DateTime Nodule) we looked at and write a line or 2 of code as an example using this module._\n",
    "\n",
    "* Python Random Module \n",
    "import random\n",
    "diceThrow = random.randrange(1,21)\n",
    "print(\"Dice throw ...\", diceThrow)\n",
    "\n",
    "\n",
    "#### _3)What is a benefit of using Exception handling?_\n",
    "* Python generates an error message when your code is incorrect.\n",
    "* Python generates text an (exception), for incorrect or an exception occurs in a block of code.\n",
    "\n",
    "\n",
    "#### _4)what are the 4 components used for Python Exception Handling?_\n",
    "* Here are the exception statements can be used to identify errors:\n",
    "    - `try` - Tests a block of code for errors\n",
    "    - `except` - Handles the error\n",
    "    - `else` - Executes code when there is NO error\n",
    "    - `finally` - Executes code, regardless of `try` and `except`\n",
    "\n",
    "#### _5)NumPy arrays are like what Python data type?_\n",
    "* They are like list.\n",
    "\n",
    "\n",
    "#### _6) What is one of the main benefits of using NumPy arrays.\n",
    "* They are faster take up less space and convenient\n",
    "\n",
    "#### _7)What is one of the main requirements about the 'dtype' of NumPy arrays? \n",
    "* Its homogeneous, and all elements within that array must be of the same data type.\n",
    "\n",
    "#### _8)Of the 10 uses of NumPy, name 2.\n",
    "* Searching/ sorting / counting and linear algebra.\n",
    "\n",
    "#### _9)*Name one of the other libraries we use with NumPy?\n",
    "* Pandas\n",
    "\n",
    "#### _10)What is the shape of NumPy arrays?\n",
    "* The shape can be 2,3 and even 4 dimensional.\n",
    "\n",
    "#### _11)What is a Tensor?\n",
    "* Its an array with 3 dimensions.\n",
    "\n",
    "#### _12)Name a reason why it's better using NumPy for Data Analysis than using a Python List?\n",
    "* Better perfromance.\n",
    "\n",
    "#### _13)When creating an \"empty\" array, where do the elements come from?\n",
    "* The function `empty` creates an array whose initial content is random and depends on the state of the memory. The reason to use `empty()` over `zeros()` (or something similar) is speed - just make sure to fill every element afterwards!\n",
    "Empty has nothing to do with creating an array that is \"empty\" in the sense of having no elements. It just means the array doesn't have its values initialized (i.e., they are unpredictable and depend on whatever happens to be in the memory allocated for the array"
   ]
  },
  {
   "cell_type": "code",
   "execution_count": 1,
   "metadata": {},
   "outputs": [
    {
     "name": "stdout",
     "output_type": "stream",
     "text": [
      "Renting a car is very expensive!!\n"
     ]
    }
   ],
   "source": [
    "# Flow Control Method\n",
    "# 1.)Create an if statement  if 'age' is greater than or equal to 25, \n",
    "# print \"Renting a car is more affordable\", \n",
    "# however if 'age' is less than 25, \n",
    "#print \"Renting a car is very expensive.\"\n",
    "\n",
    "age = int(input(\"is greater than or equal to 25:\"))\n",
    "\n",
    "if age >25:\n",
    "    print(\"Renting a car is more affordable\")\n",
    "else:\n",
    "    print(\"Renting a car is very expensive!!\")"
   ]
  },
  {
   "cell_type": "code",
   "execution_count": null,
   "metadata": {},
   "outputs": [],
   "source": [
    "# 2.) Create and chain an if-else  statement: if 'age' is greater than or equal to 25, \n",
    "# print \"Renting a car is more affordable.\" If 'age' is less than 25 but greater than or equal to 18,\n",
    "# print \"Renting a car is very expensive.\"\n",
    "# Finally, if age is less than 18, print \"You cannot legally rent a car.\"\n",
    "\n",
    "age = 25 \n",
    "if age >= 25:\n",
    "    print(\"Renting a car is more affordable.\")\n",
    "elif age < 25 and age >= 18:\n",
    "    print(\"Renting a car is very expensive.\")\n",
    "else:\n",
    "    print(\"You cannot legally rent a car.\")"
   ]
  },
  {
   "cell_type": "code",
   "execution_count": 2,
   "metadata": {},
   "outputs": [
    {
     "name": "stdout",
     "output_type": "stream",
     "text": [
      "Total characters in the string: 43\n",
      "Vowels in the string: ('a', 'e', 'i', 'o', 'u', 'a', 'e', 'i', 'o', 'u', 'a', 'e', 'i', 'o', 'u', 'a', 'e', 'i', 'o', 'u', 'a', 'e', 'i', 'o', 'u', 'a', 'e', 'i', 'o', 'u', 'a', 'e', 'i', 'o', 'u', 'a', 'e', 'i', 'o', 'u', 'a', 'e', 'i', 'o', 'u', 'a', 'e', 'i', 'o', 'u', 'a', 'e', 'i', 'o', 'u', 'a', 'e', 'i', 'o', 'u', 'a', 'e', 'i', 'o', 'u', 'a', 'e', 'i', 'o', 'u', 'a', 'e', 'i', 'o', 'u', 'a', 'e', 'i', 'o', 'u', 'a', 'e', 'i', 'o', 'u', 'a', 'e', 'i', 'o', 'u', 'a', 'e', 'i', 'o', 'u', 'a', 'e', 'i', 'o', 'u', 'a', 'e', 'i', 'o', 'u', 'a', 'e', 'i', 'o', 'u', 'a', 'e', 'i', 'o', 'u', 'a', 'e', 'i', 'o', 'u', 'a', 'e', 'i', 'o', 'u', 'a', 'e', 'i', 'o', 'u', 'a', 'e', 'i', 'o', 'u', 'a', 'e', 'i', 'o', 'u', 'a', 'e', 'i', 'o', 'u', 'a', 'e', 'i', 'o', 'u', 'a', 'e', 'i', 'o', 'u', 'a', 'e', 'i', 'o', 'u', 'a', 'e', 'i', 'o', 'u', 'a', 'e', 'i', 'o', 'u', 'a', 'e', 'i', 'o', 'u', 'a', 'e', 'i', 'o', 'u', 'a', 'e', 'i', 'o', 'u', 'a', 'e', 'i', 'o', 'u', 'a', 'e', 'i', 'o', 'u', 'a', 'e', 'i', 'o', 'u', 'a', 'e', 'i', 'o', 'u', 'a', 'e', 'i', 'o', 'u', 'a', 'e', 'i', 'o', 'u', 'a', 'e', 'i', 'o', 'u')\n"
     ]
    }
   ],
   "source": [
    "# 3.)Loop over the following string to \n",
    "#(1) count all the characters in the string and \n",
    "#(2) print out all the vowels -- \"The quick brown fox jumps over the lazy dog\"\n",
    "\n",
    "string = \"The quick brown fox jumps over the lazy dog\"\n",
    "vowels = ('a', 'e', 'i', 'o', 'u')\n",
    "count = 0\n",
    "\n",
    "for char in string:\n",
    "    count += 1\n",
    "for vowel in string:\n",
    "    vowels += 'a', 'e', 'i', 'o', 'u'\n",
    "\n",
    "print(f\"Total characters in the string: {count}\")\n",
    "print(f\"Vowels in the string: {vowels}\")\n",
    "\n",
    "\n"
   ]
  },
  {
   "cell_type": "code",
   "execution_count": null,
   "metadata": {},
   "outputs": [],
   "source": [
    "# 4.)Write a nested loop that prints out every piece of clothing from the couture list\n",
    "#  in every fashionable color from the panettone set\n",
    "# couture = [\"trousers\", \"blouse\", \"bandana\", \"cumber band\", \"blazer\", \"vest\", \"french beret\", \"scarf\", \"stole\"]\n",
    "#  and panettone = {\"cerise\", \"fuchsia\", \"aqua\", \"maple\", \"auburn\", \"burnt sienna\", \"gunmetal blue\", \"Dark Sapphire\"}\n",
    "\n",
    "\n",
    "\n",
    "couture = [\"trousers\", \"blouse\", \"bandana\", \"cumber band\", \"blazer\", \"vest\", \"french beret\", \"scarf\", \"stole\"]\n",
    "panettone = {\"cerise\", \"fuchsia\", \"aqua\", \"maple\", \"auburn\", \"burnt sienna\", \"gunmetal blue\", \"Dark Sapphire\"}\n",
    "\n",
    "for clothing in couture:\n",
    "    for color in panettone:\n",
    "        print(clothing, color)"
   ]
  },
  {
   "cell_type": "code",
   "execution_count": null,
   "metadata": {},
   "outputs": [],
   "source": [
    "# 5.)Use range as a loop to calculate the sum of all the numbers from 1 to 100\n",
    "\n",
    "for i in range(1, 100):\n",
    "    print(i, end=\" \")\n",
    "print()"
   ]
  },
  {
   "cell_type": "code",
   "execution_count": null,
   "metadata": {},
   "outputs": [],
   "source": [
    "# 6.)Print the second item in this fruits list. [\"apple\", \"banana\", \"cherry\"]\n",
    "\n",
    "list = [\"apple\", \"banana\", \"cherry\"]\n",
    "\n",
    "print(list[1])"
   ]
  },
  {
   "cell_type": "code",
   "execution_count": null,
   "metadata": {},
   "outputs": [],
   "source": [
    "# 7.)Change the value from \"apple\" to \"kiwi\", in the fruits list. [\"apple\", \"banana\", \"cherry\"]\n",
    "fruits = [\"apple\", \"banana\", \"cherry\"]\n",
    "fruits[0] = \"kiwi\"\n",
    "print(fruits)"
   ]
  },
  {
   "cell_type": "code",
   "execution_count": 7,
   "metadata": {},
   "outputs": [
    {
     "name": "stdout",
     "output_type": "stream",
     "text": [
      "['apple', 'banana', 'cherry', 'orange']\n"
     ]
    }
   ],
   "source": [
    "# 8.)Use the append method to add \"orange\" to the fruits list. [\"apple\", \"banana\", \"cherry\"]\n",
    "\n",
    "fruits = [\"apple\", \"banana\", \"cherry\"]\n",
    "fruits.append(\"orange\")\n",
    "print(fruits)"
   ]
  },
  {
   "cell_type": "code",
   "execution_count": null,
   "metadata": {},
   "outputs": [],
   "source": [
    "# 9.) Use the insert method to add \"lemon\" as the second item in the fruits list. [\"apple\", \"banana\", \"cherry\"]\n",
    "\n",
    "fruits = [\"apple\", \"banana\", \"cherry\"]\n",
    "fruits.insert(1, \"lemon\")\n",
    "print(fruits)"
   ]
  },
  {
   "cell_type": "code",
   "execution_count": null,
   "metadata": {},
   "outputs": [],
   "source": [
    "# 10.) Use the remove method to remove \"banana\" from the fruits list. [\"apple\", \"banana\", \"cherry\"]\n",
    "\n",
    "fruits = [\"apple\", \"banana\", \"cherry\"]\n",
    "fruits.remove(\"banana\")\n",
    "print(fruits)"
   ]
  },
  {
   "cell_type": "code",
   "execution_count": null,
   "metadata": {},
   "outputs": [],
   "source": [
    "# 11.)Use negative indexing to print the 3rd and 2nd to last items in the list.\n",
    "#[\"apple\", \"banana\", \"cherry\", \"orange\", \"kiwi\", \"melon\", \"mango\"]\n",
    "\n",
    "list = [\"apple\", \"banana\", \"cherry\", \"orange\", \"kiwi\", \"melon\", \"mango\"]\n",
    "\n",
    "print(list[-3])\n",
    "print(list[-2])"
   ]
  },
  {
   "cell_type": "code",
   "execution_count": null,
   "metadata": {},
   "outputs": [],
   "source": [
    "# 12.)Use a range of indexes to print the third, fourth, and fifth item in the list. \n",
    "#[\"apple\", \"banana\", \"cherry\", \"orange\", \"kiwi\", \"melon\", \"mango\"]\n",
    "\n",
    "list = [\"apple\", \"banana\", \"cherry\", \"orange\", \"kiwi\", \"melon\", \"mango\"]\n",
    "print(list[2:5])"
   ]
  },
  {
   "cell_type": "code",
   "execution_count": null,
   "metadata": {},
   "outputs": [],
   "source": [
    "# 13.)Use the correct syntax to print the number of items in the list. \n",
    "#[\"apple\", \"banana\", \"cherry\", \"orange\", \"kiwi\", \"melon\", \"mango\"]\n",
    "\n",
    "list = [\"apple\", \"banana\", \"cherry\", \"orange\", \"kiwi\", \"melon\", \"mango\"]\n",
    "length = len(list)\n",
    "print(length)"
   ]
  },
  {
   "cell_type": "code",
   "execution_count": 8,
   "metadata": {},
   "outputs": [
    {
     "name": "stdout",
     "output_type": "stream",
     "text": [
      "['orange', 'melon', 'mango', 'kiwi', 'cherry', 'banana', 'apple']\n"
     ]
    }
   ],
   "source": [
    "# 14.) Use the correct syntax to sort this list in reverse order\n",
    "# [\"apple\", \"banana\", \"cherry\", \"orange\", \"kiwi\", \"melon\", \"mango\"\n",
    "\n",
    "list = [\"apple\", \"banana\", \"cherry\", \"orange\", \"kiwi\", \"melon\", \"mango\"]\n",
    "\n",
    "list.sort(reverse=True)\n",
    "\n",
    "print(list)"
   ]
  },
  {
   "cell_type": "markdown",
   "metadata": {},
   "source": [
    "## Use a Python code file for this section:"
   ]
  },
  {
   "cell_type": "code",
   "execution_count": null,
   "metadata": {},
   "outputs": [],
   "source": [
    "# 15.) Use the DateTime module to get Current Date and Time, and save it to a variable.\n",
    "# Then extract just the Full month name form that variable.\n",
    "\n",
    "import datetime\n",
    "\n",
    "month = datetime.datetime.now()\n",
    "print(month.strftime(\"%B\"))"
   ]
  },
  {
   "cell_type": "code",
   "execution_count": 13,
   "metadata": {},
   "outputs": [
    {
     "name": "stdout",
     "output_type": "stream",
     "text": [
      "Whats up  Drew ! Grand Tuesday !\n",
      "Whats up  Drew ! Grand Thursday !\n"
     ]
    }
   ],
   "source": [
    "# 16.) Write a simple function that takes 2 parameters -- a first name and a day name.\n",
    "\n",
    "### * Set a default value for the day name of Sunday.\n",
    "### * Have the function print out a greeting -- using the parameters -- that says something like \"Hi first-name! Happy day-name!\".\n",
    "### * Remember to use the variables in the greeting to replace first-name and day-name.\n",
    "### * Invoke this function with 2 variables.\n",
    "### * Invoke this function with 1 variable only.\n",
    "\n",
    "def greeting(name, day = 'Thursday'):\n",
    "    print('Whats up ', name, '!', 'Grand', day, '!', )\n",
    "\n",
    "greeting('Drew', day='Tuesday')\n",
    "greeting('Drew')"
   ]
  },
  {
   "cell_type": "code",
   "execution_count": 16,
   "metadata": {},
   "outputs": [
    {
     "name": "stdout",
     "output_type": "stream",
     "text": [
      "Something went terribly wrong\n",
      "The 'try except' is finished\n"
     ]
    }
   ],
   "source": [
    "# 17.)Write a block of code to handle one of the most common Python exception errors. \n",
    "#Select one of the common errors from the curriculum section on Python Exception handling.\n",
    "# Have your code example uses the try,except, else, and finally components.\n",
    "# try:\n",
    " \n",
    "try:\n",
    "    print(x)\n",
    "except:\n",
    "    print(\"Something went terribly wrong\")\n",
    "else:\n",
    "    print(\"Everything is copacetic\")\n",
    "finally:\n",
    "    print(\"The 'try except' is finished\")\n"
   ]
  },
  {
   "cell_type": "markdown",
   "metadata": {},
   "source": [
    "#### Drew Pearson"
   ]
  }
 ],
 "metadata": {
  "kernelspec": {
   "display_name": "Python 3",
   "language": "python",
   "name": "python3"
  },
  "language_info": {
   "codemirror_mode": {
    "name": "ipython",
    "version": 3
   },
   "file_extension": ".py",
   "mimetype": "text/x-python",
   "name": "python",
   "nbconvert_exporter": "python",
   "pygments_lexer": "ipython3",
   "version": "3.11.5"
  }
 },
 "nbformat": 4,
 "nbformat_minor": 2
}
