{
 "cells": [
  {
   "cell_type": "markdown",
   "metadata": {},
   "source": [
    "### **Variables**"
   ]
  },
  {
   "cell_type": "code",
   "execution_count": 3,
   "metadata": {},
   "outputs": [
    {
     "name": "stdout",
     "output_type": "stream",
     "text": [
      "Welcome to my Mad Lib Game!Thank you for playing!\n"
     ]
    },
    {
     "name": "stdout",
     "output_type": "stream",
     "text": [
      "Drew\n"
     ]
    }
   ],
   "source": [
    "# Variables INTRO and Class Mad Lib Example goes here\n",
    "\n",
    "title = 'Welcome to my Mad Lib Game!'\n",
    "\n",
    "title_ending = 'Thank you for playing!' \n",
    "\n",
    "print(title+ title_ending)\n",
    "\n",
    "\n",
    "# variables\n",
    "\n",
    "persons_name = input('Please write your first name!')\n",
    "animal_name = input('Please write your fasvorite aniaml')\n",
    "profession = input('Please write your proffession')\n",
    "\n",
    "\n",
    "\n",
    "\n",
    "# paragraph 1\n",
    "print('My name is ' + persons_name)\n",
    "print('My favorite animal is '+ animal_name)\n",
    "print('My proffession is ' + profession)\n",
    "\n",
    "\n",
    "# paragraph method 2 \n",
    "print(f'My name is ' + {persons_name}')\n",
    "print(f'My favorite animal is ' + {animal_name}')\n",
    "print(f'My proffession is ' + {profession})\n",
    "print(f'My proffession is {profession + animal_name}')\n",
    "\n",
    "#paraagraph method 3\n",
    "string = f\"\"\"\n",
    "My name is {person_name}\n",
    "My favorite anaimal is {animal_name}\n",
    "My proffession is {proffession}\n",
    "print(string)\n",
    "# ending \n",
    "print('Game Over')\n"
   ]
  },
  {
   "cell_type": "markdown",
   "metadata": {},
   "source": [
    "##### **extra info on variables:** https://realpython.com/python-variables/"
   ]
  },
  {
   "cell_type": "markdown",
   "metadata": {},
   "source": [
    "### **String concatenation/formating**"
   ]
  },
  {
   "cell_type": "markdown",
   "metadata": {},
   "source": [
    "**Method 1: using the + operator**"
   ]
  },
  {
   "cell_type": "code",
   "execution_count": null,
   "metadata": {},
   "outputs": [],
   "source": [
    "# Concatenating with variables\n",
    "name = \"John\"\n",
    "age = \"36\"\n",
    "txt = \"My name is \" + name + \", I am \" + age + \" years old.\"\n",
    "print(txt)\n"
   ]
  },
  {
   "cell_type": "markdown",
   "metadata": {},
   "source": [
    "**Method 2: Formatting string using the percentage `%` Operator**"
   ]
  },
  {
   "cell_type": "code",
   "execution_count": null,
   "metadata": {},
   "outputs": [],
   "source": [
    "# Formatting string using `%` Operator\n",
    "print(\"The mangy, stray dog %s gobbled down the food.\" %\"hurriedly\")\n"
   ]
  },
  {
   "cell_type": "markdown",
   "metadata": {},
   "source": [
    "**Method 3: f-Strings**\n",
    "\n",
    "- f-strings are string literals that have an f at the beginning and curly braces containing expressions that will be replaced with their values."
   ]
  },
  {
   "cell_type": "code",
   "execution_count": null,
   "metadata": {},
   "outputs": [],
   "source": [
    "#example 1\n",
    "\n",
    "name = \"Eric\"\n",
    "age = 74\n",
    "print(f\"Hello, {name}. You are {age}.\")"
   ]
  },
  {
   "cell_type": "code",
   "execution_count": null,
   "metadata": {},
   "outputs": [],
   "source": [
    "#example 2\n",
    "print(f\"{2 * 37}\")"
   ]
  },
  {
   "cell_type": "code",
   "execution_count": null,
   "metadata": {},
   "outputs": [],
   "source": [
    "\n",
    "#example 3 \n",
    "\n",
    "name = \"Eric\"\n",
    "profession = \"comedian\"\n",
    "affiliation = \"Monty Python\"\n",
    "\n",
    "message = f\"\"\"\n",
    "    Hi {name}. \n",
    "    You are a {profession}. \n",
    "    You were in {affiliation}.\n",
    "\"\"\"\n",
    "print(message)"
   ]
  },
  {
   "cell_type": "markdown",
   "metadata": {},
   "source": [
    " **NOTES**\n",
    "- f-strings: Also called “formatted string literals”\n",
    "- The syntax is similar to the one you used with str.format() but less verbose. Look at how easily readable it is in the example on the slide.\n",
    "- It would also be valid to use a capital letter `F`"
   ]
  },
  {
   "cell_type": "markdown",
   "metadata": {},
   "source": [
    "#### **Assigning Variable Names**\n",
    "\n",
    "Requirements:\n",
    "- must start with a letter or the underscore character (`_`).\n",
    "- cannot start with a number.\n",
    "- can only contain alpha-numeric characters and underscores (A-z, 0-9, and _ )\n",
    "- case-sensitive (age, Age and AGE are three different variables)"
   ]
  },
  {
   "cell_type": "markdown",
   "metadata": {},
   "source": [
    "#### **Reserved words**\n",
    "- there are restricted words built into python that you are not able to use as a variable names \n",
    "\n",
    "|    |    |    |\n",
    "|----|----|----|\n",
    "| FALSE | TRUE | pass |\n",
    "| None | else | nonlocal |\n",
    "| elif | except | not |\n",
    "| and | finally | or |\n",
    "| as | for | lambda |\n",
    "| assert | form | raise |\n",
    "| break | global | return |\n",
    "| class | if | try |\n",
    "| continue | import | while |\n",
    "| def | in | with |\n",
    "| del | is | yield |"
   ]
  },
  {
   "cell_type": "markdown",
   "metadata": {},
   "source": [
    "### **Breakout: Mad Libs activity**"
   ]
  },
  {
   "cell_type": "markdown",
   "metadata": {},
   "source": [
    " \n",
    "##### This markdown cell contains the items that need to be converted into python variables.\n",
    "\n",
    "1. Proper Noun (Person’s Name) \n",
    "2. Noun \n",
    "3. Adjective (Feeling) \n",
    "4. Verb \n",
    "5. Adjective (Feeling) \n",
    "6. Animal \n",
    "7. Verb \n",
    "8. Color \n",
    "9. Verb (ending in ing) \n",
    "10. Adverb (ending in ly) \n",
    "11. Number \n",
    "12. Measure of Time (mins, hours, secs etc..)\n",
    "13. Color \n",
    "14. Animal \n",
    "15. Number \n",
    "16. Silly Word \n",
    "17. Noun \n",
    "\n",
    "---"
   ]
  },
  {
   "cell_type": "markdown",
   "metadata": {},
   "source": [
    "##### This Markdown Cell contains the string you need to convert to receive the input from the variables\n",
    "\n",
    "\"\"\"This weekend I am going camping with ________________. I packed my lantern, sleeping bag, and\n",
    "________________. I am so ________________ to ________________ in a tent. I am ________________ we\n",
    "might see a ________________, they are kind of dangerous. We are going to hike, fish, and ________________.\n",
    "I have heard that the ________________ lake is great for ________________. Then we will\n",
    "________________hike through the forest for ________________ ________________. If I see a\n",
    "________________ ________________ while hiking, I am going to bring it home as a pet! At night we will tell\n",
    "________________ _______________ stories and roast ________________ around the campfire!!\"\"\"\n",
    "\n",
    "<br>\n",
    "\n",
    "---"
   ]
  },
  {
   "cell_type": "markdown",
   "metadata": {},
   "source": [
    "#### Steps to consider\n",
    "1. Create your variables\n",
    "    - how are you going to do this? \n",
    "        - user input \n",
    "        - manually \n",
    "\n",
    "2. How are you going to combine the variables with the mad libs paragraph? \n",
    "    - concatenation\n",
    "    - f strings \n",
    "\n",
    "3. Implement the variable names and your chosen method of setting the vairables value \n",
    "\n",
    "4. Implement the variable names into the paragraph with the chosen method and store this in a variable \n",
    "5. Display the paragraph string"
   ]
  },
  {
   "cell_type": "code",
   "execution_count": null,
   "metadata": {},
   "outputs": [],
   "source": [
    "# create your variables in this code block"
   ]
  },
  {
   "cell_type": "code",
   "execution_count": null,
   "metadata": {},
   "outputs": [],
   "source": [
    "# combine your variables and paragraph in this code block"
   ]
  },
  {
   "cell_type": "code",
   "execution_count": null,
   "metadata": {},
   "outputs": [],
   "source": [
    "# display your paragraph in this code block"
   ]
  },
  {
   "cell_type": "markdown",
   "metadata": {},
   "source": [
    "#### Once finished..... Congrats! You have completed your first python game/program! "
   ]
  },
  {
   "cell_type": "markdown",
   "metadata": {},
   "source": [
    "### **Data Types**\n",
    "\n",
    "| Category | Data Type                             | Examples                   |\n",
    "|----------|---------------------------------------|------------------------------------------|\n",
    "| Sequence | string (str)                          | `x = “Hello World”`                      |\n",
    "| Numeric  | integer (int)                  | `x = 20`                                 |\n",
    "| Numeric  | Floating-Point Numbers (float) | `x = 20.5` (numbers with a decimal point) |\n",
    "| Sequence | list                           | `x = [“apple”, “banana”, “cherry”]`\t     |\n",
    "| Sequence | tuple             | `x = (“apple”, “banana”, “cherry”)`      |\n",
    "| Sequence | range             | `x = range(5)`                           |\n",
    "| Mapping  | dictionary (dict) | `x = {“name” : “John”,  “age” : 36}`     |\n",
    "| Boolean  | boolean  | `x = True`                               |"
   ]
  },
  {
   "cell_type": "markdown",
   "metadata": {},
   "source": [
    "#### Checking data types"
   ]
  },
  {
   "cell_type": "code",
   "execution_count": 7,
   "metadata": {},
   "outputs": [],
   "source": [
    "# use this code block for demonstration\n"
   ]
  },
  {
   "cell_type": "code",
   "execution_count": 4,
   "metadata": {},
   "outputs": [],
   "source": [
    "# Run this code block without changes\n",
    "\n",
    "variable_one = \"Hello World\"\n",
    "\n",
    "variable_two = 10\n",
    "\n",
    "variable_three = 34.09\n",
    "\n",
    "variable_four = True"
   ]
  },
  {
   "cell_type": "code",
   "execution_count": 5,
   "metadata": {},
   "outputs": [
    {
     "data": {
      "text/plain": [
       "bool"
      ]
     },
     "execution_count": 5,
     "metadata": {},
     "output_type": "execute_result"
    }
   ],
   "source": [
    "# use the type() function to check the data types of the variables above\n",
    "# print(variable_one, variable_two, variable_three, variable_four. sep='\\n')\n",
    "\n",
    "# print(type(variable_one))\n",
    "type(variable_four)\n"
   ]
  }
 ],
 "metadata": {
  "kernelspec": {
   "display_name": "base",
   "language": "python",
   "name": "python3"
  },
  "language_info": {
   "codemirror_mode": {
    "name": "ipython",
    "version": 3
   },
   "file_extension": ".py",
   "mimetype": "text/x-python",
   "name": "python",
   "nbconvert_exporter": "python",
   "pygments_lexer": "ipython3",
   "version": "3.11.5"
  },
  "orig_nbformat": 4
 },
 "nbformat": 4,
 "nbformat_minor": 2
}
