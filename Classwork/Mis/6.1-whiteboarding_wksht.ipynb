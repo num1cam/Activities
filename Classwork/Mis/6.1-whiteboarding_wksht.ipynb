{
 "cells": [
  {
   "cell_type": "markdown",
   "metadata": {},
   "source": [
    "# Interview Whiteboard Coding"
   ]
  },
  {
   "cell_type": "markdown",
   "metadata": {},
   "source": [
    "Steps for success!\n",
    "\n",
    "1. Gather requirements\n",
    "2. Break down problem\n",
    "3. Write pseudocode\n",
    "4. Code a solution\n",
    "5. Test the solution\n",
    "6. Consider changes"
   ]
  },
  {
   "cell_type": "markdown",
   "metadata": {},
   "source": [
    "### Gather Requirements"
   ]
  },
  {
   "cell_type": "markdown",
   "metadata": {},
   "source": [
    "- Asking too many questions is better than too few\n",
    "- Establish what your input and output is supposed to be\n",
    "- Find edge cases\n",
    "- Write out requirements\n",
    "- Establish programming language and expected structure\n",
    "  - Run once \"root\" code\n",
    "  - Function\n",
    "\n",
    "*The goal is the clarify the problem to the point that there are no more questions.*"
   ]
  },
  {
   "cell_type": "markdown",
   "metadata": {},
   "source": [
    "### Break Down the Problem\n"
   ]
  },
  {
   "cell_type": "markdown",
   "metadata": {},
   "source": [
    "\n",
    "- Restate the key points\n",
    "- Establish the priorities of the problems"
   ]
  },
  {
   "cell_type": "markdown",
   "metadata": {},
   "source": [
    "### Pseudocode"
   ]
  },
  {
   "cell_type": "markdown",
   "metadata": {},
   "source": [
    "- Don’t write out any code or syntax\n",
    "- Focus on structure\n",
    "- Just use plain old English, explain it to your Grandma.\n",
    "\n",
    "```\n",
    "Enter Value\n",
    "If Value greater than 10\n",
    "  Log \"Your number is greater than 10\"\n",
    "If Value less than 10\n",
    "  Log \"Your number is less than 10\"\n",
    "```"
   ]
  },
  {
   "cell_type": "markdown",
   "metadata": {},
   "source": [
    "### Write a Solution"
   ]
  },
  {
   "cell_type": "markdown",
   "metadata": {},
   "source": [
    "- Write code! Finally!!!\n",
    "- Talk with your interviewer about what you are doing\n",
    "  - THINK OUT LOUD\n",
    "- Mistakes are okay! \n",
    "- Syntax errors are NOT the end of the world!\n",
    "- Be sure to write neatly so your code can be read\n",
    "\n",
    "*If whiteboarding digitally, you should be able to drop code in a Chrome developer console and execute.*"
   ]
  },
  {
   "cell_type": "markdown",
   "metadata": {},
   "source": [
    "### Test"
   ]
  },
  {
   "cell_type": "markdown",
   "metadata": {},
   "source": [
    "- Walk through the steps of your code verbally, OUT LOUD.\n",
    "- Assign values your variables. Take us on an input’s journey!\n",
    "- Test edge cases"
   ]
  },
  {
   "cell_type": "markdown",
   "metadata": {},
   "source": [
    "### Consider Changes"
   ]
  },
  {
   "cell_type": "markdown",
   "metadata": {},
   "source": [
    "- Review and fix any bugs\n",
    "- Discuss ways to improve"
   ]
  },
  {
   "cell_type": "markdown",
   "metadata": {},
   "source": [
    "### Rules/Expectations\n"
   ]
  },
  {
   "cell_type": "markdown",
   "metadata": {},
   "source": [
    "- Do NOT search for the solution for your question.\n",
    "- You may use the curriculum or the following websites as a reference for Python\n",
    "  - https://docs.python.org/3/reference\n",
    "  - https://docs.python.org/3/library\n",
    "  - https://realpython.com/\n",
    "  - https://www.tutorialspoint.com/python3\n",
    "- A team member should present one section:\n",
    "  - Requirements clarification & questions asked\n",
    "  - Break down the problem\n",
    "  - Present the pseudocode\n",
    "  - Present the code\n",
    "  - Run through/Test the code\n",
    "- The entire class will discuss improvements & enhancements."
   ]
  },
  {
   "cell_type": "markdown",
   "metadata": {},
   "source": [
    "# Question 1"
   ]
  },
  {
   "cell_type": "markdown",
   "metadata": {},
   "source": [
    "\n",
    "Write a Python function that takes in two integers and returns their sum, unless the two integers are equal.\n",
    "\n",
    "If the two integers are equal, then return three times their sum.\n",
    "\n",
    "Example input/output:\n",
    "```\n",
    "sum2Integers(10, 20) // --> 30\n",
    "sum2Integers(10, 10) // --> 60\n",
    "```"
   ]
  },
  {
   "cell_type": "markdown",
   "metadata": {},
   "source": [
    "## Solution 1"
   ]
  },
  {
   "cell_type": "code",
   "execution_count": null,
   "metadata": {},
   "outputs": [],
   "source": [
    "# write psuedocode here\n",
    "var = int(input('Please enter a number'))\n",
    "var2 = int(input('Please enter a second number'))"
   ]
  },
  {
   "cell_type": "code",
   "execution_count": 7,
   "metadata": {},
   "outputs": [
    {
     "name": "stdout",
     "output_type": "stream",
     "text": [
      "5\n"
     ]
    }
   ],
   "source": [
    "# write code solution here\n",
    "#var = int(input('Please enter a number'))\n",
    "#var2 = int(input('Please enter a second number'))\n",
    "\n",
    "#if var == var2:\n",
    "   #sum =  (var + var2) * 3 \n",
    "#else:\n",
    "#   sum = var + var2\n",
    "      \n",
    "\n",
    "#print(sum)\n",
    "\n",
    "var = int(input('Please enter a number'))\n",
    "var2 = int(input('Please enter a second number'))\n",
    "\n",
    "if var == var2: \n",
    "    sum =  (var + var2) * 3\n",
    "else: \n",
    "    sum = var = var2  \n",
    "    \n",
    "\n",
    "print(sum)"
   ]
  },
  {
   "cell_type": "markdown",
   "metadata": {},
   "source": [
    "# Question 2\n"
   ]
  },
  {
   "cell_type": "markdown",
   "metadata": {},
   "source": [
    "\n",
    "Write a Python function that takes in a list integers and returns the integer with the highest value.\n",
    "\n",
    "(Do NOT use max()!!!)\n",
    "\n",
    "Example:\n",
    "```\n",
    "findHighest([4, 1, -3]) // --> 4\n",
    "```\n"
   ]
  },
  {
   "cell_type": "markdown",
   "metadata": {},
   "source": [
    "### Solution "
   ]
  },
  {
   "cell_type": "code",
   "execution_count": 8,
   "metadata": {},
   "outputs": [
    {
     "name": "stdout",
     "output_type": "stream",
     "text": [
      "15\n"
     ]
    }
   ],
   "source": [
    "# forbidden solution\n",
    "\n",
    "print(max(5, 15, 8, 11)) # Print the max results"
   ]
  },
  {
   "cell_type": "code",
   "execution_count": null,
   "metadata": {},
   "outputs": [],
   "source": [
    "# write psuedocode here"
   ]
  },
  {
   "cell_type": "code",
   "execution_count": null,
   "metadata": {},
   "outputs": [],
   "source": [
    "# write solution here\n",
    "\n",
    "list = [4,1,-3]\n",
    "var1 = list1(0)\n",
    "\n",
    "for number in list1:\n",
    "    if var1 > number:\n",
    "        continue\n",
    "    else: \n",
    "        var1 =number \n",
    "var1"
   ]
  },
  {
   "cell_type": "code",
   "execution_count": 18,
   "metadata": {},
   "outputs": [
    {
     "name": "stdout",
     "output_type": "stream",
     "text": [
      "15\n"
     ]
    }
   ],
   "source": [
    "my_list = [5, 15, 8, 11]\n",
    "my_list.sort()\n",
    "my_list[len(my_list) - 1]\n",
    "print(my_list[-1])"
   ]
  },
  {
   "cell_type": "markdown",
   "metadata": {},
   "source": [
    "# Question 3\n"
   ]
  },
  {
   "cell_type": "markdown",
   "metadata": {},
   "source": [
    "\n",
    "Write a function that generates a random number between 0-10.\n",
    "\n",
    "If the number is greater than 5, print “{number} is greater than five!”.\n",
    "\n",
    "If it is less than 5, print “{number} is less than five!”\n",
    "\n",
    "> Question that should be asked:  \n",
    "> What should happen if the number equals five?\n",
    "\n",
    "Example:\n",
    "```\n",
    "isFive()\n",
    "```"
   ]
  },
  {
   "cell_type": "markdown",
   "metadata": {},
   "source": [
    "### Solution "
   ]
  },
  {
   "cell_type": "code",
   "execution_count": null,
   "metadata": {},
   "outputs": [],
   "source": [
    "# write psuedocode here\n",
    "def generate_random_number():\n",
    "    return random.randint(0, 10)\n",
    "random_number = generate_random_number()\n",
    "print(random_number)\n"
   ]
  },
  {
   "cell_type": "code",
   "execution_count": 64,
   "metadata": {},
   "outputs": [
    {
     "name": "stdout",
     "output_type": "stream",
     "text": [
      "7 Is greater than five!\n"
     ]
    }
   ],
   "source": [
    "# write solution here \n",
    "import random\n",
    "def isFive():\n",
    "\n",
    "    isFive = random.randrange(1,10)\n",
    "    if isFive > 5:\n",
    "        print(isFive, 'Is greater than five!')\n",
    "    elif isFive < 5:\n",
    "        print(isFive, 'Is less than five!')\n",
    "    else: \n",
    "        print(isFive, 'The number is five!')\n",
    "\n",
    "isFive()"
   ]
  },
  {
   "cell_type": "markdown",
   "metadata": {},
   "source": [
    "# Question 4\n"
   ]
  },
  {
   "cell_type": "markdown",
   "metadata": {},
   "source": [
    "\n",
    "Write a Python function that counts the number of vowels in a string.\n",
    "\n",
    "The vowels are \"a\", \"e\", \"i\", \"o\" & \"u\"\n",
    "\n",
    "Example:\n",
    "```\n",
    "countVowels('hello') // --> 2\n",
    "countVowels('why') // --> 0\n",
    "```"
   ]
  },
  {
   "cell_type": "markdown",
   "metadata": {},
   "source": [
    "### Solution"
   ]
  },
  {
   "cell_type": "code",
   "execution_count": 65,
   "metadata": {},
   "outputs": [],
   "source": [
    "# write psuedocode here\n",
    "def count_vowels(string):\n",
    "    # Define a set of vowels to check against\n",
    "    vowels = set(\"aeiouAEIOU\")\n",
    "    \n",
    "    # Initialize a counter to keep track of the number of vowels\n",
    "    count = 0\n",
    "    \n",
    "    # Iterate through each character in the string\n",
    "    for char in string:\n",
    "        if char in vowels:\n",
    "            count += 1\n",
    "\n",
    "    return count"
   ]
  },
  {
   "cell_type": "code",
   "execution_count": 67,
   "metadata": {},
   "outputs": [
    {
     "name": "stdout",
     "output_type": "stream",
     "text": [
      "eiei"
     ]
    },
    {
     "data": {
      "text/plain": [
       "4"
      ]
     },
     "execution_count": 67,
     "metadata": {},
     "output_type": "execute_result"
    }
   ],
   "source": [
    "# write solution here\n",
    "\n",
    "string1 = \"Drew is the King!\"\n",
    "count = 0\n",
    "vowels = set(\"a\"\"e\"\"i\"\"o\"\"u\"\"A\"\"E\"\"I\"\"O\"\"U\")\n",
    "\n",
    "for bruh in string1:\n",
    "    if bruh in vowels:\n",
    "       count += 1\n",
    "       print(bruh, end = '')\n",
    "count\n"
   ]
  },
  {
   "cell_type": "code",
   "execution_count": null,
   "metadata": {},
   "outputs": [],
   "source": []
  },
  {
   "cell_type": "markdown",
   "metadata": {},
   "source": [
    "# Question 5\n"
   ]
  },
  {
   "cell_type": "markdown",
   "metadata": {},
   "source": [
    "\n",
    "Write a Python function that determines if a string is a palindrome.\n",
    "\n",
    "A palindrome is a string that is the same forward and backwards.\n",
    "\n",
    "Example:\n",
    "```\n",
    "isPalindrome('racecar') // --> true\n",
    "isPalindrome('table') // --> false\n",
    "```"
   ]
  },
  {
   "cell_type": "markdown",
   "metadata": {},
   "source": [
    "### Solution "
   ]
  },
  {
   "cell_type": "code",
   "execution_count": 53,
   "metadata": {},
   "outputs": [
    {
     "data": {
      "text/plain": [
       "'elbat'"
      ]
     },
     "execution_count": 53,
     "metadata": {},
     "output_type": "execute_result"
    }
   ],
   "source": [
    "# write psuedocode here\n",
    "\n",
    "input_string = [\"Audi\"]\n",
    "string2 = \"table\"\n",
    "\n",
    "\n",
    "string2[::-1]"
   ]
  },
  {
   "cell_type": "code",
   "execution_count": 57,
   "metadata": {},
   "outputs": [
    {
     "name": "stdout",
     "output_type": "stream",
     "text": [
      "table This is not a Palindrome\n",
      "audi This is not a Palindrome\n"
     ]
    }
   ],
   "source": [
    "# write solution here \n",
    "string1 = 'audi'\n",
    "string2 = 'table'\n",
    "\n",
    "\n",
    "if string2[::-1] == string2:\n",
    "    print(string2, 'This is a Palindrome')\n",
    "else:\n",
    "    print(string2, 'This is not a Palindrome')\n",
    "\n",
    "if string1[::-1] == string1:\n",
    "    print(string1, 'This is a Palindrome')\n",
    "else:\n",
    "    print(string1, 'This is not a Palindrome')\n",
    "\n",
    "\n"
   ]
  },
  {
   "cell_type": "markdown",
   "metadata": {},
   "source": [
    "# Bonus Questions/Activities"
   ]
  },
  {
   "cell_type": "markdown",
   "metadata": {},
   "source": [
    "1. Write a Python program that iterates the integers from 1 to 50. For multiples of three print \"Fizz\" instead of the number and for multiples of five print \"Buzz\". For numbers that are multiples of three and five, print \"FizzBuzz\"."
   ]
  },
  {
   "cell_type": "code",
   "execution_count": 58,
   "metadata": {},
   "outputs": [
    {
     "name": "stdout",
     "output_type": "stream",
     "text": [
      "1\n",
      "2\n",
      "Fizz\n",
      "4\n",
      "Buzz\n",
      "Fizz\n",
      "7\n",
      "8\n",
      "Fizz\n",
      "Buzz\n",
      "11\n",
      "Fizz\n",
      "13\n",
      "14\n",
      "FizzBuzz\n",
      "16\n",
      "17\n",
      "Fizz\n",
      "19\n",
      "Buzz\n",
      "Fizz\n",
      "22\n",
      "23\n",
      "Fizz\n",
      "Buzz\n",
      "26\n",
      "Fizz\n",
      "28\n",
      "29\n",
      "FizzBuzz\n",
      "31\n",
      "32\n",
      "Fizz\n",
      "34\n",
      "Buzz\n",
      "Fizz\n",
      "37\n",
      "38\n",
      "Fizz\n",
      "Buzz\n",
      "41\n",
      "Fizz\n",
      "43\n",
      "44\n",
      "FizzBuzz\n",
      "46\n",
      "47\n",
      "Fizz\n",
      "49\n",
      "Buzz\n"
     ]
    }
   ],
   "source": [
    "for number in range(1, 51):\n",
    "    if number % 3 == 0 and number % 5 == 0:\n",
    "        print(\"FizzBuzz\")\n",
    "    elif number % 3 == 0:\n",
    "        print(\"Fizz\")\n",
    "    elif number % 5 == 0:\n",
    "        print(\"Buzz\")\n",
    "    else:\n",
    "        print(number)"
   ]
  },
  {
   "cell_type": "markdown",
   "metadata": {},
   "source": [
    "2. Create a simple calculator that can perform basic arithmetic operations (addition, subtraction, multiplication and division) on two numbers. The program should take user input for both numbers and the desired operation. The result of the operation will be printed on the screen.  "
   ]
  },
  {
   "cell_type": "code",
   "execution_count": null,
   "metadata": {},
   "outputs": [],
   "source": []
  },
  {
   "cell_type": "markdown",
   "metadata": {},
   "source": [
    "3. Given the participants' score sheet for your University Sports Day, you are required to find the runner-up score. You are given  scores. Store them in a list and find the score of the runner-up. Given list is [2,3,6,6,5] . The maximum score is 6, second maximum is 5. Hence, we print 5 as the runner-up score."
   ]
  },
  {
   "cell_type": "markdown",
   "metadata": {},
   "source": []
  }
 ],
 "metadata": {
  "kernelspec": {
   "display_name": "base",
   "language": "python",
   "name": "python3"
  },
  "language_info": {
   "codemirror_mode": {
    "name": "ipython",
    "version": 3
   },
   "file_extension": ".py",
   "mimetype": "text/x-python",
   "name": "python",
   "nbconvert_exporter": "python",
   "pygments_lexer": "ipython3",
   "version": "3.11.5"
  }
 },
 "nbformat": 4,
 "nbformat_minor": 2
}
