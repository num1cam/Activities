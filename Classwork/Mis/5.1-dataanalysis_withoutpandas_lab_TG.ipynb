{
 "cells": [
  {
   "cell_type": "markdown",
   "metadata": {},
   "source": [
    "# Data Analysis without Pandas"
   ]
  },
  {
   "cell_type": "markdown",
   "metadata": {},
   "source": [
    "### Background"
   ]
  },
  {
   "cell_type": "markdown",
   "metadata": {},
   "source": [
    "    We have been asked to analyze a future population growth dataset. We have been asked, by our stakeholders, to analyze the relative percent change of the population of the top 5 countries and the bottom 5 countries. "
   ]
  },
  {
   "cell_type": "markdown",
   "metadata": {},
   "source": [
    "### Import Packages"
   ]
  },
  {
   "cell_type": "code",
   "execution_count": null,
   "metadata": {},
   "outputs": [],
   "source": [
    "## run this cell without changes\n",
    "\n",
    "import csv \n",
    "import matplotlib.pyplot as plt"
   ]
  },
  {
   "cell_type": "markdown",
   "metadata": {},
   "source": [
    "### Import the Data"
   ]
  },
  {
   "cell_type": "code",
   "execution_count": null,
   "metadata": {},
   "outputs": [],
   "source": [
    "# read the data with csv package into a list called population_data\n",
    "population_data = []\n",
    "\n",
    "with open('5.1-base_py_lab_projected_pop_data.csv', 'r') as file:\n",
    "    csv_reader = csv.reader(file, delimiter=',')\n",
    "\n",
    "    for row in csv_reader:\n",
    "        population_data.append(row)"
   ]
  },
  {
   "cell_type": "markdown",
   "metadata": {},
   "source": [
    "### Inspect the Data"
   ]
  },
  {
   "cell_type": "code",
   "execution_count": null,
   "metadata": {},
   "outputs": [],
   "source": [
    "# print the first 5 elements(rows) of the list \n",
    "print(population_data[:5])"
   ]
  },
  {
   "cell_type": "markdown",
   "metadata": {},
   "source": [
    "    The table that we imported is in a wide format where each ‘row’ is a country and each year is a ‘column’. That means each list within the list contains all population information for each country."
   ]
  },
  {
   "cell_type": "code",
   "execution_count": null,
   "metadata": {},
   "outputs": [],
   "source": [
    "# find out the total number of elements (rows) in population data \n",
    "print(len(population_data))"
   ]
  },
  {
   "cell_type": "markdown",
   "metadata": {},
   "source": [
    "### Create a Summary Table"
   ]
  },
  {
   "cell_type": "markdown",
   "metadata": {},
   "source": [
    "    We will start analyzing the population dataset by creating a summary table containing information about the highest and lowest expected population for each country, as well as the relative change in population from today to the year 2100. We will create a table called population_summary which will contain the following columns:\n",
    "    \n",
    "    - country\n",
    "    - lowest_population\n",
    "    - lowest_population_year\n",
    "    - highest_population\n",
    "    - highest_population_year\n",
    "    - percent_change_2020_2100\n",
    " "
   ]
  },
  {
   "cell_type": "markdown",
   "metadata": {},
   "source": [
    "#### Data Cleaning"
   ]
  },
  {
   "cell_type": "markdown",
   "metadata": {},
   "source": [
    "    Before we create our table, we need to clean the data. "
   ]
  },
  {
   "cell_type": "code",
   "execution_count": null,
   "metadata": {},
   "outputs": [],
   "source": [
    "# check the datatypes of values in the 'rows'\n",
    "\n",
    "print(population_data[1])\n",
    "print(population_data[1][1] , type(population_data[1][1]))"
   ]
  },
  {
   "cell_type": "markdown",
   "metadata": {},
   "source": [
    "    The values will need to be integers."
   ]
  },
  {
   "cell_type": "code",
   "execution_count": null,
   "metadata": {},
   "outputs": [],
   "source": [
    "# step 1: we will need to iterate through all of the rows (list elements) \n",
    "\n",
    "for row_index in range(1, len(population_data)):\n",
    "    print(population_data[row_index])"
   ]
  },
  {
   "cell_type": "code",
   "execution_count": null,
   "metadata": {},
   "outputs": [],
   "source": [
    "# step 2: we need to iterate through the column values in each row\n",
    "\n",
    "for row_index in range(1, len(population_data)):\n",
    "    for column_value_index in range(1, len(population_data[row_index])):\n",
    "        print(population_data[row_index][column_value_index])"
   ]
  },
  {
   "cell_type": "code",
   "execution_count": null,
   "metadata": {},
   "outputs": [],
   "source": [
    "# step 3: we need to update the element value and cast it to a new data type \n",
    "for row_index in range(1, len(population_data)):\n",
    "    for column_value_index in range(1, len(population_data[row_index])):\n",
    "        population_data[row_index][column_value_index] = int(population_data[row_index][column_value_index])\n"
   ]
  },
  {
   "cell_type": "code",
   "execution_count": null,
   "metadata": {},
   "outputs": [],
   "source": [
    "# step 4: CHECK YOUR WORK... What are the data types of population values in the rows?\n",
    "print(population_data[1])\n",
    "print(population_data[1][1] , type(population_data[1][1]))"
   ]
  },
  {
   "cell_type": "markdown",
   "metadata": {},
   "source": [
    "#### Summary List"
   ]
  },
  {
   "cell_type": "code",
   "execution_count": null,
   "metadata": {},
   "outputs": [],
   "source": [
    "# create a new list (table) to store summary data\n",
    "# add country names in single elements lists \n",
    "population_summary = []\n",
    "\n",
    "#method 1 \n",
    "population_summary = [[population_data[row][0]] for row in range(0,len(population_data))]\n",
    "\n",
    "#method 2 \n",
    "\n",
    "# # add countries to column 0\n",
    "# for row in range(0, len(population_data)):\n",
    "\n",
    "#     # at each new element add an empty list \n",
    "#     population_summary.append([])\n",
    "    \n",
    "#     # append the country name into the new list \n",
    "#     population_summary[row].append(population_data[row][0])\n",
    "\n",
    "# #method 3\n",
    "# for row in range(0, len(population_data)):\n",
    "    \n",
    "#     # append the [country name] into the new list \n",
    "#     population_summary.append([population_data[row][0]])"
   ]
  },
  {
   "cell_type": "markdown",
   "metadata": {},
   "source": [
    "    To find the other column values, we use for-loops to iterate over population_summary, find the highest and lowest population values and we will add them to their respective rows. In the same iteration, we will also find the highest and lowest years as well as the relative percent change.\n",
    "\n",
    "\n"
   ]
  },
  {
   "cell_type": "code",
   "execution_count": null,
   "metadata": {},
   "outputs": [],
   "source": [
    "# figure out lowest values\n",
    "\n",
    "# lowest values code explained \n",
    "\n",
    "\"\"\" \n",
    "    lowest = min(population_data[row][1:])\n",
    "    lowest_index = population_data[row].index(lowest)\n",
    "    lowest_year = population_data[0][lowest_index]\n",
    "\"\"\"\n",
    "\n",
    "print(\"lowest: \", min(population_data[1][1:]))\n",
    "      \n",
    "print(\"index: \", population_data[1][1:].index(min(population_data[1][1:])))\n",
    "\n",
    "print(\"year: \", population_data[1][1:][0])"
   ]
  },
  {
   "cell_type": "code",
   "execution_count": null,
   "metadata": {},
   "outputs": [],
   "source": [
    "# figure out highest values \n",
    "\n",
    "# highest values code explained \n",
    "\"\"\" \n",
    "    highest = max(population_data[row][1:])\n",
    "    highest_index = population_data[row].index(highest)\n",
    "    highest_year = population_data[0][highest_index]\n",
    "\"\"\"\n",
    "\n",
    "\n",
    "print(\"highest: \", max(population_data[1][1:]))\n",
    "      \n",
    "print(\"index: \", population_data[1][1:].index(max(population_data[1][1:])))\n",
    "\n",
    "print(\"year: \", population_data[0][13])"
   ]
  },
  {
   "cell_type": "code",
   "execution_count": null,
   "metadata": {},
   "outputs": [],
   "source": [
    "# figure out relative percent change from 2020-2100\n",
    "\n",
    "# relative change in population code explained\n",
    "# assumes data is in order of past - future order \n",
    "# (V2) newest value minus the (V1) oldest value \n",
    "# divided by the (V1) oldest value \n",
    "# multplyed by 100 to get the percent value \n",
    "\n",
    "(population_data[1][-1] - population_data[1][1]) / population_data[1][1] * 100\n"
   ]
  },
  {
   "cell_type": "markdown",
   "metadata": {},
   "source": [
    "![img](./image/prctchange.png)"
   ]
  },
  {
   "cell_type": "markdown",
   "metadata": {},
   "source": [
    "#### Summary table for loop "
   ]
  },
  {
   "cell_type": "code",
   "execution_count": null,
   "metadata": {},
   "outputs": [],
   "source": [
    "# add highest/lowest projected population \n",
    "for row in range(1, len(population_data)):\n",
    "    # see lowest example above\n",
    "    lowest = min(population_data[row][1:])\n",
    "    lowest_index = population_data[row].index(lowest)\n",
    "    lowest_year = population_data[0][lowest_index]\n",
    "\n",
    "    #see highest example above \n",
    "    highest = max(population_data[row][1:])\n",
    "    highest_index = population_data[row].index(highest)\n",
    "    highest_year = population_data[0][highest_index]\n",
    "\n",
    "    # appending the values to the new list \n",
    "    population_summary[row].append(lowest)\n",
    "    population_summary[row].append(lowest_year)\n",
    "    population_summary[row].append(highest)\n",
    "    population_summary[row].append(highest_year)\n",
    "\n",
    "    # add relative change in population 2020-2100\n",
    "    dev = round((population_data[row][-1] - population_data[row][1]) / population_data[row][1] * 100, 2)\n",
    "    \n",
    "    # append dev value\n",
    "    population_summary[row].append(dev)\n",
    " "
   ]
  },
  {
   "cell_type": "code",
   "execution_count": null,
   "metadata": {},
   "outputs": [],
   "source": [
    "# add column names \n",
    "col_names = ['country', 'lowest_population', 'lowest_population_year', 'highest_population', 'highest_population_year', 'percent_change_2020_2100']\n",
    "\n",
    "population_summary[0] = col_names"
   ]
  },
  {
   "cell_type": "code",
   "execution_count": null,
   "metadata": {},
   "outputs": [],
   "source": [
    "population_summary"
   ]
  },
  {
   "cell_type": "markdown",
   "metadata": {},
   "source": [
    "### Optional: Export Summary Table"
   ]
  },
  {
   "cell_type": "code",
   "execution_count": null,
   "metadata": {},
   "outputs": [],
   "source": [
    "# export to csv file\n",
    "\n",
    "with open ('summarized.csv', 'w') as file:\n",
    "    csv_writer = csv.writer(file, delimiter=',')\n",
    "    for row in population_summary:\n",
    "        csv_writer.writerow(row)"
   ]
  },
  {
   "cell_type": "markdown",
   "metadata": {},
   "source": [
    "#### Create a subset for visualization"
   ]
  },
  {
   "cell_type": "code",
   "execution_count": null,
   "metadata": {},
   "outputs": [],
   "source": [
    "# sort list by percent change, highest to lowest\n",
    "\n",
    "population_summary_srt = sorted(population_summary[1:], reverse=True, key=lambda x: x[5])"
   ]
  },
  {
   "cell_type": "code",
   "execution_count": null,
   "metadata": {},
   "outputs": [],
   "source": [
    "# define new list, growth_percent, and append first and last 5 rows\n",
    "\n",
    "growth_percent = [] \n",
    "# append 5 first and 5 last from sorted list\n",
    "for row in population_summary_srt[:6]:\n",
    "    growth_percent.append(row)\n",
    "for row in population_summary_srt[-5:]:\n",
    "    growth_percent.append(row)"
   ]
  },
  {
   "cell_type": "code",
   "execution_count": null,
   "metadata": {},
   "outputs": [],
   "source": [
    "#run this cell whithout changes (you have not learned this tool yet)\n",
    "\n",
    "# make a horisontal bar plot\n",
    "import matplotlib.pyplot as plt\n",
    "\n",
    "# save values for x and y \n",
    "countries = []\n",
    "rel_change = []\n",
    "\n",
    "for row in range(1, len(growth_percent)):\n",
    "    #appending the country name value in position 0 \n",
    "    countries.append(growth_percent[row][0])\n",
    "    #appending the last value in the row (relative change)\n",
    "    rel_change.append(growth_percent[row][-1])\n",
    "\n",
    "plt.grid()\n",
    "plt.barh(countries, rel_change)\n",
    "plt.title('World Population Projection 2019 - 2100.\\n Countries with Largest Growth and Decline Respectively')\n",
    "plt.xlabel('Change factor in percent')\n",
    "plt.show()"
   ]
  },
  {
   "cell_type": "markdown",
   "metadata": {},
   "source": [
    "    You brought this to your stakeholders and they were very pleased! Great Work! However, their have been a last minute addition to the analysis...They also want to view for only European countries."
   ]
  },
  {
   "cell_type": "markdown",
   "metadata": {},
   "source": [
    "#### Stakeholder Request: Europe Subset"
   ]
  },
  {
   "cell_type": "code",
   "execution_count": null,
   "metadata": {},
   "outputs": [],
   "source": [
    "\n",
    "\n",
    "# create a list with European countries\n",
    "europe = ['Russia', 'Germany', 'United Kingdom', 'France', 'Italy', 'Spain', 'Ukraine', 'Poland', 'Romania', 'Netherlands', \n",
    "          'Belgium', 'Czech Republic', 'Greece', 'Portugal', 'Sweden', 'Hungary', 'Belarus', 'Austria', 'Serbia', \n",
    "          'Switzerland', 'Bulgaria', 'Denmark', 'Finland', 'Slovak Republic','Norway', 'Ireland', 'Croatia', 'Moldova', \n",
    "          'Bosnia and Herzegovina', 'Albania',\t'Lithuania','Macedonia, FYR', 'Slovenia', 'Latvia', 'Kosovo', 'Estonia', \n",
    "          'Montenegro', 'Luxembourg', 'Malta', 'Iceland', 'Andorra', 'Monaco', 'Liechtenstein', 'San Marino', 'Holy See']\n"
   ]
  },
  {
   "cell_type": "code",
   "execution_count": null,
   "metadata": {},
   "outputs": [],
   "source": [
    "# Define a new list, europe_list, and append only European Countries\n",
    "\n",
    "europe_list = []\n",
    "\n",
    "# find all countries in population_summary and add to europ_list\n",
    "\n",
    "for row in range(1, len(population_summary)):\n",
    "    if population_summary[row][0] in europe:\n",
    "        europe_list.append(population_summary[row])"
   ]
  },
  {
   "cell_type": "code",
   "execution_count": null,
   "metadata": {},
   "outputs": [],
   "source": [
    "# sort list by percent change, highest to lowest\n",
    "europe_list_srt = sorted(europe_list, reverse=True, key=lambda x: x[5])"
   ]
  },
  {
   "cell_type": "code",
   "execution_count": null,
   "metadata": {},
   "outputs": [],
   "source": [
    "# define new list, europe_growth, and append first and last 5 rows \n",
    "europe_growth = []\n",
    "\n",
    "# append 5 first and 5 last from sorted list\n",
    "for row in europe_list_srt[:6]:\n",
    "    europe_growth.append(row)\n",
    "for row in europe_list_srt[-5:]:\n",
    "    europe_growth.append(row)"
   ]
  },
  {
   "cell_type": "code",
   "execution_count": null,
   "metadata": {},
   "outputs": [],
   "source": [
    "# run this cell whithout changes (you have not learned this tool yet)\n",
    "\n",
    "# make a horisontal bar plot\n",
    "import matplotlib.pyplot as plt\n",
    "\n",
    "# save values for x and y \n",
    "europe_countries = []\n",
    "europe_percent_change = []\n",
    "\n",
    "for row in range(1, len(europe_growth)):\n",
    "    #appending the country name value in position 0 \n",
    "    europe_countries.append(europe_growth[row][0])\n",
    "    #appending the last value in the row (relative change)\n",
    "    europe_percent_change.append(europe_growth[row][-1])\n",
    "\n",
    "plt.grid()\n",
    "plt.barh(europe_countries, europe_percent_change)\n",
    "plt.title('World Population Projection 2019 - 2100.\\n European Countries with Largest Growth and Decline Respectively')\n",
    "plt.xlabel('Change factor in percent')\n",
    "plt.show()"
   ]
  },
  {
   "cell_type": "markdown",
   "metadata": {},
   "source": [
    "    Congratulations! You brought this to your stakeholders and they were very pleased, great Work! However, yet again, there was a last minute addition to the analysis...they also want a comparison of projected population development between countries."
   ]
  },
  {
   "cell_type": "markdown",
   "metadata": {},
   "source": [
    "### Stakeholder Request: Projected population development between countries"
   ]
  },
  {
   "cell_type": "code",
   "execution_count": null,
   "metadata": {},
   "outputs": [],
   "source": [
    "# define new list, pop_norm, to add new values to\n",
    "\n",
    "pop_norm = []\n",
    "\n"
   ]
  },
  {
   "cell_type": "code",
   "execution_count": null,
   "metadata": {},
   "outputs": [],
   "source": [
    "population_data"
   ]
  },
  {
   "cell_type": "code",
   "execution_count": null,
   "metadata": {},
   "outputs": [],
   "source": [
    "# iterate through population data and add country names in single element lists\n",
    "\n",
    "# add country\n",
    "for row in range(len(population_data)):\n",
    "    pop_norm.append([population_data[row][0]])\n",
    "pop_norm"
   ]
  },
  {
   "cell_type": "markdown",
   "metadata": {},
   "source": [
    "### Normalizing Values Notes: "
   ]
  },
  {
   "cell_type": "markdown",
   "metadata": {},
   "source": [
    "    As some countries have large populations and some countries have small\n",
    "    populations it is difficult to compare their population development. We can\n",
    "    solve this by normalizing the population values (Scaling technique). We will do this by setting\n",
    "    the year 2020 as an index year, and all other years will be presented in\n",
    "    relation to this index year. The population of each year is divided by the\n",
    "    population of the index year and multiplied by 100.\n",
    "\n",
    "    https://www.economicsdiscussion.net/price/index-number/index-numbers-characteristics-formula-examples-types-importance-and-limitations/31211"
   ]
  },
  {
   "cell_type": "markdown",
   "metadata": {},
   "source": [
    "![img](./image/norm_index_equation.png)"
   ]
  },
  {
   "cell_type": "code",
   "execution_count": null,
   "metadata": {},
   "outputs": [],
   "source": [
    "# add normalized values for each year, use 2020 as index year\n",
    "\n",
    "for row_index in range(1,len(population_data)):\n",
    "    for column_value in range(1, len(population_data[row_index])):\n",
    "        pop_norm[row_index].append(round(population_data[row_index][column_value]/population_data[row_index][1]*100, 2))\n"
   ]
  },
  {
   "cell_type": "code",
   "execution_count": null,
   "metadata": {},
   "outputs": [],
   "source": [
    "pop_norm[0:5]"
   ]
  },
  {
   "cell_type": "code",
   "execution_count": null,
   "metadata": {},
   "outputs": [],
   "source": [
    "# add column names \n",
    "cols = ['country', '2020', '2025', '2030', '2035', '2040', '2045', '2050', '2055', '2060', '2065', '2070', '2075', '2080', '2085', '2090', '2095', '2100']\n",
    "\n",
    "pop_norm[0] = cols"
   ]
  },
  {
   "cell_type": "code",
   "execution_count": null,
   "metadata": {},
   "outputs": [],
   "source": [
    "pop_norm[0:5]"
   ]
  },
  {
   "cell_type": "code",
   "execution_count": null,
   "metadata": {},
   "outputs": [],
   "source": [
    "#print first five rows\n",
    "\n",
    "for row in pop_norm[:5]:\n",
    "    print(row)"
   ]
  },
  {
   "cell_type": "code",
   "execution_count": null,
   "metadata": {},
   "outputs": [],
   "source": [
    "# sort the list into a new list called pop_norm_sorted\n",
    "\n",
    "pop_norm_sorted = sorted(pop_norm[1:], reverse=True, key=lambda x: x[-1])"
   ]
  },
  {
   "cell_type": "code",
   "execution_count": null,
   "metadata": {},
   "outputs": [],
   "source": [
    "\n",
    "# define new list, population_development, and append first and last 5 rows\n",
    "\n",
    "population_development = []\n",
    "\n",
    "# append 5 first and 5 last from sorted list\n",
    "for row in pop_norm_sorted[:6]:\n",
    "    population_development.append(row)\n",
    "for row in pop_norm_sorted[-5:]:\n",
    "    population_development.append(row)"
   ]
  },
  {
   "cell_type": "code",
   "execution_count": null,
   "metadata": {},
   "outputs": [],
   "source": [
    "# run this cell without changes \n",
    "\n",
    "fig,ax = plt.subplots()\n",
    "\n",
    "for i in range(2, len(population_development)):\n",
    "    ax.plot(population_development[0][1:],\n",
    "            population_development[i][1:],\n",
    "            label = population_development[i][0])\n",
    "\n",
    "fig.set_figwidth(12)\n",
    "fig.set_figheight(8)\n",
    "\n",
    "plt.grid()\n",
    "\n",
    "plt.legend()\n",
    "plt.title('World Population Projection 2019 - 2100.\\n Population Development')\n",
    "plt.xlabel('Population Years')\n",
    "plt.ylabel('Relative Population Development, Index year 2020')\n",
    "plt.ylim(0,600)\n",
    "plt.yscale('linear')\n",
    "y_tick_labels = [0, 100, 200, 300, 400, 500]\n",
    "ax.set_yticklabels(y_tick_labels)\n",
    "ind = y_tick_labels.index(100)\n",
    "\n",
    "gridlines = ax.yaxis.get_gridlines()\n",
    "gridlines[ind].set_color(\"k\")\n",
    "gridlines[ind].set_linewidth(1.5)\n",
    "\n",
    "plt.show()\n"
   ]
  },
  {
   "cell_type": "markdown",
   "metadata": {},
   "source": [
    "    Congratulations...Again! You brought this additional analysis to your stakeholders and they were very pleased, great work! However, as predicted, there was a last minute addition to the analysis...they also want a comparison of projected population development between a specific list of countries that was provided to you."
   ]
  },
  {
   "cell_type": "markdown",
   "metadata": {},
   "source": [
    "### Stakeholder Request: Population Development Subset"
   ]
  },
  {
   "cell_type": "code",
   "execution_count": null,
   "metadata": {},
   "outputs": [],
   "source": [
    "pop_dev_subset_list= ['Australia', 'Japan', 'Moldova', 'Sweden', 'United Kingdom', 'United States']"
   ]
  },
  {
   "cell_type": "code",
   "execution_count": null,
   "metadata": {},
   "outputs": [],
   "source": [
    "#define a new list pop_dev_subset and add values from pop_norm only if in pop_dev_subset_list\n",
    "\n",
    "\n",
    "pop_dev_subset = []\n",
    "\n",
    "for i in pop_norm[1:]:\n",
    "    if i[0] in pop_dev_subset_list:\n",
    "        pop_dev_subset.append(i)"
   ]
  },
  {
   "cell_type": "code",
   "execution_count": null,
   "metadata": {},
   "outputs": [],
   "source": [
    "# add column names\n",
    "cols = ['country', '2020', '2025', '2030', '2035', '2040', '2045', '2050', '2055', '2060', '2065', '2070', '2075', '2080', '2085', '2090', '2095', '2100']\n",
    "pop_dev_subset.insert(1, cols)"
   ]
  },
  {
   "cell_type": "markdown",
   "metadata": {},
   "source": [
    "    Congrats...For real this time! There were no more last minute additions. You are finished! "
   ]
  },
  {
   "cell_type": "markdown",
   "metadata": {},
   "source": []
  }
 ],
 "metadata": {
  "kernelspec": {
   "display_name": "base",
   "language": "python",
   "name": "python3"
  },
  "language_info": {
   "codemirror_mode": {
    "name": "ipython",
    "version": 3
   },
   "file_extension": ".py",
   "mimetype": "text/x-python",
   "name": "python",
   "nbconvert_exporter": "python",
   "pygments_lexer": "ipython3",
   "version": "3.10.8"
  },
  "orig_nbformat": 4
 },
 "nbformat": 4,
 "nbformat_minor": 2
}
