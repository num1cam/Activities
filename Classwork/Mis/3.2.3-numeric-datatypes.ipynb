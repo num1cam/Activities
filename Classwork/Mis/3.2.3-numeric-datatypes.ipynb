{
 "cells": [
  {
   "cell_type": "markdown",
   "metadata": {},
   "source": [
    "## **Casting to different data types**"
   ]
  },
  {
   "cell_type": "code",
   "execution_count": 4,
   "metadata": {},
   "outputs": [
    {
     "name": "stdout",
     "output_type": "stream",
     "text": [
      "2\n"
     ]
    }
   ],
   "source": [
    "# string\n",
    "#demonstrate index()\n",
    "\n",
    "string = \"SavvyCoders\"\n",
    "\n",
    "\n",
    "print(string.index('v'))\n",
    "\n"
   ]
  },
  {
   "cell_type": "markdown",
   "metadata": {},
   "source": [
    "## **Casting to different data types**"
   ]
  },
  {
   "cell_type": "code",
   "execution_count": 7,
   "metadata": {},
   "outputs": [
    {
     "ename": "SyntaxError",
     "evalue": "incomplete input (1541543660.py, line 8)",
     "output_type": "error",
     "traceback": [
      "\u001b[1;36m  Cell \u001b[1;32mIn[7], line 8\u001b[1;36m\u001b[0m\n\u001b[1;33m    print(type(float(floating)), type(floating)\u001b[0m\n\u001b[1;37m                                               ^\u001b[0m\n\u001b[1;31mSyntaxError\u001b[0m\u001b[1;31m:\u001b[0m incomplete input\n"
     ]
    }
   ],
   "source": [
    "# plaace examples here \n",
    "\n",
    "number = 20\n",
    "string_num = \"9\"\n",
    "updated = int(string_num)\n",
    "floating = 20.5\n",
    "\n",
    "print(type(float(floating)), type(floating)"
   ]
  },
  {
   "cell_type": "markdown",
   "metadata": {},
   "source": [
    "### **Numeric Data Types**\n",
    "\n",
    "|Category|Data Types| casting function| Examples|\n",
    "|--------|----------|--------|-----|\n",
    "| Numeric  | integer (int)  |  int(data)   | `x = 20`  |\n",
    "| Numeric  | Floating-Point Numbers (float) |float(data)| `x = 20.5` (numbers with a decimal point) |"
   ]
  },
  {
   "cell_type": "markdown",
   "metadata": {},
   "source": [
    "### **Mathematical Operators**\n",
    "\n",
    "| Operator | Name | Example |\n",
    "|----|----|----|\n",
    "| `+` | Addition | x + y |\n",
    "| `-` | Subtraction | x - y |\n",
    "| `*` | Multiplication | x * y |\n",
    "| `/` | Division | x / y |\n",
    "| `%` | Modulus | x % y |\n",
    "| `**` | Exponentiation | x ** y |\n",
    "| `//` | Floor division | x // y |"
   ]
  },
  {
   "cell_type": "code",
   "execution_count": 11,
   "metadata": {},
   "outputs": [
    {
     "data": {
      "text/plain": [
       "2"
      ]
     },
     "execution_count": 11,
     "metadata": {},
     "output_type": "execute_result"
    }
   ],
   "source": [
    "# place class examples here\n",
    "\n",
    "11%3\n",
    "\n",
    "# three goes into 11 3 times evenly (9)\n",
    "# remainder = 2"
   ]
  },
  {
   "cell_type": "markdown",
   "metadata": {},
   "source": [
    "### **Breakout: Code Along Simple Math Calculator**  \n"
   ]
  },
  {
   "cell_type": "markdown",
   "metadata": {},
   "source": [
    "### **Comparison Operators**\n",
    "\n",
    "| Operator | Name | Example |\n",
    "|----|----|----|\n",
    "| == | Equal | a == b |\n",
    "| != | Not Equal | a != b |\n",
    "| > | Greater Than | a > b |\n",
    "| < | Less Than | a < b |\n",
    "| >= | Greater than OR equal to | a >= b |\n",
    "| <= | Less than OR equal to | a <= b |"
   ]
  },
  {
   "cell_type": "code",
   "execution_count": 15,
   "metadata": {},
   "outputs": [
    {
     "name": "stdout",
     "output_type": "stream",
     "text": [
      "False\n"
     ]
    }
   ],
   "source": [
    "print(9 >= 10)"
   ]
  },
  {
   "cell_type": "markdown",
   "metadata": {},
   "source": [
    "### **Booleans**\n",
    "\n",
    "Booleans represent one of two values: True or False\n",
    "\n",
    "|Category|Data Types| casting function| Examples|\n",
    "|--------|----------|--------|-----|\n",
    " boolean |  boolean |bool(data)| `x = True`|"
   ]
  },
  {
   "cell_type": "markdown",
   "metadata": {},
   "source": [
    "### **Logical Operators**\n",
    "\n",
    "Logical operators are operations between two logical expressions that we call `kitten` and `puppy`"
   ]
  },
  {
   "cell_type": "markdown",
   "metadata": {},
   "source": [
    "![image](./images/logicOperators.png)"
   ]
  },
  {
   "cell_type": "markdown",
   "metadata": {},
   "source": [
    "# truthyness\n",
    "Kitten = True \n",
    "puppy = false\n",
    "\n",
    "print(kitten or puppy)"
   ]
  },
  {
   "cell_type": "code",
   "execution_count": 21,
   "metadata": {},
   "outputs": [
    {
     "name": "stdout",
     "output_type": "stream",
     "text": [
      "True\n"
     ]
    }
   ],
   "source": [
    "\n",
    "kitten = True \n",
    "puppy = False\n",
    "\n",
    "print(kitten and (not puppy))\n",
    "\n",
    "\n"
   ]
  },
  {
   "cell_type": "code",
   "execution_count": null,
   "metadata": {},
   "outputs": [],
   "source": [
    "kitten = False\n",
    "puppy = False\n",
    "\n",
    "print(bool(kitten or puppy))"
   ]
  },
  {
   "cell_type": "code",
   "execution_count": null,
   "metadata": {},
   "outputs": [],
   "source": [
    "kitten = True\n",
    "puppy = False\n",
    "\n",
    "print(bool(kitten and (not puppy)))"
   ]
  }
 ],
 "metadata": {
  "kernelspec": {
   "display_name": "base",
   "language": "python",
   "name": "python3"
  },
  "language_info": {
   "codemirror_mode": {
    "name": "ipython",
    "version": 3
   },
   "file_extension": ".py",
   "mimetype": "text/x-python",
   "name": "python",
   "nbconvert_exporter": "python",
   "pygments_lexer": "ipython3",
   "version": "3.11.5"
  },
  "orig_nbformat": 4
 },
 "nbformat": 4,
 "nbformat_minor": 2
}
